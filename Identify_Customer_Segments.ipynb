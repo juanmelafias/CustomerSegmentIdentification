{
 "cells": [
  {
   "cell_type": "markdown",
   "metadata": {},
   "source": [
    "# Project: Identify Customer Segments\n",
    "\n",
    "In this project, you will apply unsupervised learning techniques to identify segments of the population that form the core customer base for a mail-order sales company in Germany. These segments can then be used to direct marketing campaigns towards audiences that will have the highest expected rate of returns. The data that you will use has been provided by our partners at Bertelsmann Arvato Analytics, and represents a real-life data science task.\n",
    "\n",
    "This notebook will help you complete this task by providing a framework within which you will perform your analysis steps. In each step of the project, you will see some text describing the subtask that you will perform, followed by one or more code cells for you to complete your work. **Feel free to add additional code and markdown cells as you go along so that you can explore everything in precise chunks.** The code cells provided in the base template will outline only the major tasks, and will usually not be enough to cover all of the minor tasks that comprise it.\n",
    "\n",
    "It should be noted that while there will be precise guidelines on how you should handle certain tasks in the project, there will also be places where an exact specification is not provided. **There will be times in the project where you will need to make and justify your own decisions on how to treat the data.** These are places where there may not be only one way to handle the data. In real-life tasks, there may be many valid ways to approach an analysis task. One of the most important things you can do is clearly document your approach so that other scientists can understand the decisions you've made.\n",
    "\n",
    "At the end of most sections, there will be a Markdown cell labeled **Discussion**. In these cells, you will report your findings for the completed section, as well as document the decisions that you made in your approach to each subtask. **Your project will be evaluated not just on the code used to complete the tasks outlined, but also your communication about your observations and conclusions at each stage.**"
   ]
  },
  {
   "cell_type": "code",
   "execution_count": 1,
   "metadata": {},
   "outputs": [
    {
     "data": {
      "text/plain": [
       "'\\nImport note: The classroom currently uses sklearn version 0.19.\\nIf you need to use an imputer, it is available in sklearn.preprocessing.Imputer,\\ninstead of sklearn.impute as in newer versions of sklearn.\\n'"
      ]
     },
     "execution_count": 1,
     "metadata": {},
     "output_type": "execute_result"
    }
   ],
   "source": [
    "# import libraries here; add more as necessary\n",
    "import numpy as np\n",
    "import pandas as pd\n",
    "import matplotlib.pyplot as plt\n",
    "import seaborn as sns\n",
    "import math\n",
    "\n",
    "# magic word for producing visualizations in notebook\n",
    "%matplotlib inline\n",
    "\n",
    "'''\n",
    "Import note: The classroom currently uses sklearn version 0.19.\n",
    "If you need to use an imputer, it is available in sklearn.preprocessing.Imputer,\n",
    "instead of sklearn.impute as in newer versions of sklearn.\n",
    "'''"
   ]
  },
  {
   "cell_type": "markdown",
   "metadata": {},
   "source": [
    "### Step 0: Load the Data\n",
    "\n",
    "There are four files associated with this project (not including this one):\n",
    "\n",
    "- `Udacity_AZDIAS_Subset.csv`: Demographics data for the general population of Germany; 891211 persons (rows) x 85 features (columns).\n",
    "- `Udacity_CUSTOMERS_Subset.csv`: Demographics data for customers of a mail-order company; 191652 persons (rows) x 85 features (columns).\n",
    "- `Data_Dictionary.md`: Detailed information file about the features in the provided datasets.\n",
    "- `AZDIAS_Feature_Summary.csv`: Summary of feature attributes for demographics data; 85 features (rows) x 4 columns\n",
    "\n",
    "Each row of the demographics files represents a single person, but also includes information outside of individuals, including information about their household, building, and neighborhood. You will use this information to cluster the general population into groups with similar demographic properties. Then, you will see how the people in the customers dataset fit into those created clusters. The hope here is that certain clusters are over-represented in the customers data, as compared to the general population; those over-represented clusters will be assumed to be part of the core userbase. This information can then be used for further applications, such as targeting for a marketing campaign.\n",
    "\n",
    "To start off with, load in the demographics data for the general population into a pandas DataFrame, and do the same for the feature attributes summary. Note for all of the `.csv` data files in this project: they're semicolon (`;`) delimited, so you'll need an additional argument in your [`read_csv()`](https://pandas.pydata.org/pandas-docs/stable/generated/pandas.read_csv.html) call to read in the data properly. Also, considering the size of the main dataset, it may take some time for it to load completely.\n",
    "\n",
    "Once the dataset is loaded, it's recommended that you take a little bit of time just browsing the general structure of the dataset and feature summary file. You'll be getting deep into the innards of the cleaning in the first major step of the project, so gaining some general familiarity can help you get your bearings."
   ]
  },
  {
   "cell_type": "code",
   "execution_count": 2,
   "metadata": {},
   "outputs": [],
   "source": [
    "# Load in the general demographics data.\n",
    "azdias = pd.read_csv('Udacity_AZDIAS_Subset.csv', delimiter = ';')\n",
    "\n",
    "# Load in the feature summary file.\n",
    "feat_info = pd.read_csv('AZDIAS_Feature_Summary.csv', delimiter = ';')"
   ]
  },
  {
   "cell_type": "code",
   "execution_count": 3,
   "metadata": {},
   "outputs": [
    {
     "data": {
      "text/html": [
       "<div>\n",
       "<style scoped>\n",
       "    .dataframe tbody tr th:only-of-type {\n",
       "        vertical-align: middle;\n",
       "    }\n",
       "\n",
       "    .dataframe tbody tr th {\n",
       "        vertical-align: top;\n",
       "    }\n",
       "\n",
       "    .dataframe thead th {\n",
       "        text-align: right;\n",
       "    }\n",
       "</style>\n",
       "<table border=\"1\" class=\"dataframe\">\n",
       "  <thead>\n",
       "    <tr style=\"text-align: right;\">\n",
       "      <th></th>\n",
       "      <th>AGER_TYP</th>\n",
       "      <th>ALTERSKATEGORIE_GROB</th>\n",
       "      <th>ANREDE_KZ</th>\n",
       "      <th>CJT_GESAMTTYP</th>\n",
       "      <th>FINANZ_MINIMALIST</th>\n",
       "      <th>FINANZ_SPARER</th>\n",
       "      <th>FINANZ_VORSORGER</th>\n",
       "      <th>FINANZ_ANLEGER</th>\n",
       "      <th>FINANZ_UNAUFFAELLIGER</th>\n",
       "      <th>FINANZ_HAUSBAUER</th>\n",
       "      <th>...</th>\n",
       "      <th>PLZ8_ANTG1</th>\n",
       "      <th>PLZ8_ANTG2</th>\n",
       "      <th>PLZ8_ANTG3</th>\n",
       "      <th>PLZ8_ANTG4</th>\n",
       "      <th>PLZ8_BAUMAX</th>\n",
       "      <th>PLZ8_HHZ</th>\n",
       "      <th>PLZ8_GBZ</th>\n",
       "      <th>ARBEIT</th>\n",
       "      <th>ORTSGR_KLS9</th>\n",
       "      <th>RELAT_AB</th>\n",
       "    </tr>\n",
       "  </thead>\n",
       "  <tbody>\n",
       "    <tr>\n",
       "      <th>0</th>\n",
       "      <td>-1</td>\n",
       "      <td>2</td>\n",
       "      <td>1</td>\n",
       "      <td>2.0</td>\n",
       "      <td>3</td>\n",
       "      <td>4</td>\n",
       "      <td>3</td>\n",
       "      <td>5</td>\n",
       "      <td>5</td>\n",
       "      <td>3</td>\n",
       "      <td>...</td>\n",
       "      <td>NaN</td>\n",
       "      <td>NaN</td>\n",
       "      <td>NaN</td>\n",
       "      <td>NaN</td>\n",
       "      <td>NaN</td>\n",
       "      <td>NaN</td>\n",
       "      <td>NaN</td>\n",
       "      <td>NaN</td>\n",
       "      <td>NaN</td>\n",
       "      <td>NaN</td>\n",
       "    </tr>\n",
       "    <tr>\n",
       "      <th>1</th>\n",
       "      <td>-1</td>\n",
       "      <td>1</td>\n",
       "      <td>2</td>\n",
       "      <td>5.0</td>\n",
       "      <td>1</td>\n",
       "      <td>5</td>\n",
       "      <td>2</td>\n",
       "      <td>5</td>\n",
       "      <td>4</td>\n",
       "      <td>5</td>\n",
       "      <td>...</td>\n",
       "      <td>2.0</td>\n",
       "      <td>3.0</td>\n",
       "      <td>2.0</td>\n",
       "      <td>1.0</td>\n",
       "      <td>1.0</td>\n",
       "      <td>5.0</td>\n",
       "      <td>4.0</td>\n",
       "      <td>3.0</td>\n",
       "      <td>5.0</td>\n",
       "      <td>4.0</td>\n",
       "    </tr>\n",
       "    <tr>\n",
       "      <th>2</th>\n",
       "      <td>-1</td>\n",
       "      <td>3</td>\n",
       "      <td>2</td>\n",
       "      <td>3.0</td>\n",
       "      <td>1</td>\n",
       "      <td>4</td>\n",
       "      <td>1</td>\n",
       "      <td>2</td>\n",
       "      <td>3</td>\n",
       "      <td>5</td>\n",
       "      <td>...</td>\n",
       "      <td>3.0</td>\n",
       "      <td>3.0</td>\n",
       "      <td>1.0</td>\n",
       "      <td>0.0</td>\n",
       "      <td>1.0</td>\n",
       "      <td>4.0</td>\n",
       "      <td>4.0</td>\n",
       "      <td>3.0</td>\n",
       "      <td>5.0</td>\n",
       "      <td>2.0</td>\n",
       "    </tr>\n",
       "    <tr>\n",
       "      <th>3</th>\n",
       "      <td>2</td>\n",
       "      <td>4</td>\n",
       "      <td>2</td>\n",
       "      <td>2.0</td>\n",
       "      <td>4</td>\n",
       "      <td>2</td>\n",
       "      <td>5</td>\n",
       "      <td>2</td>\n",
       "      <td>1</td>\n",
       "      <td>2</td>\n",
       "      <td>...</td>\n",
       "      <td>2.0</td>\n",
       "      <td>2.0</td>\n",
       "      <td>2.0</td>\n",
       "      <td>0.0</td>\n",
       "      <td>1.0</td>\n",
       "      <td>3.0</td>\n",
       "      <td>4.0</td>\n",
       "      <td>2.0</td>\n",
       "      <td>3.0</td>\n",
       "      <td>3.0</td>\n",
       "    </tr>\n",
       "    <tr>\n",
       "      <th>4</th>\n",
       "      <td>-1</td>\n",
       "      <td>3</td>\n",
       "      <td>1</td>\n",
       "      <td>5.0</td>\n",
       "      <td>4</td>\n",
       "      <td>3</td>\n",
       "      <td>4</td>\n",
       "      <td>1</td>\n",
       "      <td>3</td>\n",
       "      <td>2</td>\n",
       "      <td>...</td>\n",
       "      <td>2.0</td>\n",
       "      <td>4.0</td>\n",
       "      <td>2.0</td>\n",
       "      <td>1.0</td>\n",
       "      <td>2.0</td>\n",
       "      <td>3.0</td>\n",
       "      <td>3.0</td>\n",
       "      <td>4.0</td>\n",
       "      <td>6.0</td>\n",
       "      <td>5.0</td>\n",
       "    </tr>\n",
       "  </tbody>\n",
       "</table>\n",
       "<p>5 rows × 85 columns</p>\n",
       "</div>"
      ],
      "text/plain": [
       "   AGER_TYP  ALTERSKATEGORIE_GROB  ANREDE_KZ  CJT_GESAMTTYP  \\\n",
       "0        -1                     2          1            2.0   \n",
       "1        -1                     1          2            5.0   \n",
       "2        -1                     3          2            3.0   \n",
       "3         2                     4          2            2.0   \n",
       "4        -1                     3          1            5.0   \n",
       "\n",
       "   FINANZ_MINIMALIST  FINANZ_SPARER  FINANZ_VORSORGER  FINANZ_ANLEGER  \\\n",
       "0                  3              4                 3               5   \n",
       "1                  1              5                 2               5   \n",
       "2                  1              4                 1               2   \n",
       "3                  4              2                 5               2   \n",
       "4                  4              3                 4               1   \n",
       "\n",
       "   FINANZ_UNAUFFAELLIGER  FINANZ_HAUSBAUER    ...     PLZ8_ANTG1  PLZ8_ANTG2  \\\n",
       "0                      5                 3    ...            NaN         NaN   \n",
       "1                      4                 5    ...            2.0         3.0   \n",
       "2                      3                 5    ...            3.0         3.0   \n",
       "3                      1                 2    ...            2.0         2.0   \n",
       "4                      3                 2    ...            2.0         4.0   \n",
       "\n",
       "   PLZ8_ANTG3  PLZ8_ANTG4  PLZ8_BAUMAX  PLZ8_HHZ  PLZ8_GBZ  ARBEIT  \\\n",
       "0         NaN         NaN          NaN       NaN       NaN     NaN   \n",
       "1         2.0         1.0          1.0       5.0       4.0     3.0   \n",
       "2         1.0         0.0          1.0       4.0       4.0     3.0   \n",
       "3         2.0         0.0          1.0       3.0       4.0     2.0   \n",
       "4         2.0         1.0          2.0       3.0       3.0     4.0   \n",
       "\n",
       "   ORTSGR_KLS9  RELAT_AB  \n",
       "0          NaN       NaN  \n",
       "1          5.0       4.0  \n",
       "2          5.0       2.0  \n",
       "3          3.0       3.0  \n",
       "4          6.0       5.0  \n",
       "\n",
       "[5 rows x 85 columns]"
      ]
     },
     "execution_count": 3,
     "metadata": {},
     "output_type": "execute_result"
    }
   ],
   "source": [
    "# Check the structure of the data after it's loaded (e.g. print the number of\n",
    "# rows and columns, print the first few rows).\n",
    "azdias.head()\n",
    "\n",
    "\n",
    "\n"
   ]
  },
  {
   "cell_type": "code",
   "execution_count": 4,
   "metadata": {},
   "outputs": [
    {
     "data": {
      "text/html": [
       "<div>\n",
       "<style scoped>\n",
       "    .dataframe tbody tr th:only-of-type {\n",
       "        vertical-align: middle;\n",
       "    }\n",
       "\n",
       "    .dataframe tbody tr th {\n",
       "        vertical-align: top;\n",
       "    }\n",
       "\n",
       "    .dataframe thead th {\n",
       "        text-align: right;\n",
       "    }\n",
       "</style>\n",
       "<table border=\"1\" class=\"dataframe\">\n",
       "  <thead>\n",
       "    <tr style=\"text-align: right;\">\n",
       "      <th></th>\n",
       "      <th>attribute</th>\n",
       "      <th>information_level</th>\n",
       "      <th>type</th>\n",
       "      <th>missing_or_unknown</th>\n",
       "    </tr>\n",
       "  </thead>\n",
       "  <tbody>\n",
       "    <tr>\n",
       "      <th>0</th>\n",
       "      <td>AGER_TYP</td>\n",
       "      <td>person</td>\n",
       "      <td>categorical</td>\n",
       "      <td>[-1,0]</td>\n",
       "    </tr>\n",
       "    <tr>\n",
       "      <th>1</th>\n",
       "      <td>ALTERSKATEGORIE_GROB</td>\n",
       "      <td>person</td>\n",
       "      <td>ordinal</td>\n",
       "      <td>[-1,0,9]</td>\n",
       "    </tr>\n",
       "    <tr>\n",
       "      <th>2</th>\n",
       "      <td>ANREDE_KZ</td>\n",
       "      <td>person</td>\n",
       "      <td>categorical</td>\n",
       "      <td>[-1,0]</td>\n",
       "    </tr>\n",
       "    <tr>\n",
       "      <th>3</th>\n",
       "      <td>CJT_GESAMTTYP</td>\n",
       "      <td>person</td>\n",
       "      <td>categorical</td>\n",
       "      <td>[0]</td>\n",
       "    </tr>\n",
       "    <tr>\n",
       "      <th>4</th>\n",
       "      <td>FINANZ_MINIMALIST</td>\n",
       "      <td>person</td>\n",
       "      <td>ordinal</td>\n",
       "      <td>[-1]</td>\n",
       "    </tr>\n",
       "    <tr>\n",
       "      <th>5</th>\n",
       "      <td>FINANZ_SPARER</td>\n",
       "      <td>person</td>\n",
       "      <td>ordinal</td>\n",
       "      <td>[-1]</td>\n",
       "    </tr>\n",
       "    <tr>\n",
       "      <th>6</th>\n",
       "      <td>FINANZ_VORSORGER</td>\n",
       "      <td>person</td>\n",
       "      <td>ordinal</td>\n",
       "      <td>[-1]</td>\n",
       "    </tr>\n",
       "    <tr>\n",
       "      <th>7</th>\n",
       "      <td>FINANZ_ANLEGER</td>\n",
       "      <td>person</td>\n",
       "      <td>ordinal</td>\n",
       "      <td>[-1]</td>\n",
       "    </tr>\n",
       "    <tr>\n",
       "      <th>8</th>\n",
       "      <td>FINANZ_UNAUFFAELLIGER</td>\n",
       "      <td>person</td>\n",
       "      <td>ordinal</td>\n",
       "      <td>[-1]</td>\n",
       "    </tr>\n",
       "    <tr>\n",
       "      <th>9</th>\n",
       "      <td>FINANZ_HAUSBAUER</td>\n",
       "      <td>person</td>\n",
       "      <td>ordinal</td>\n",
       "      <td>[-1]</td>\n",
       "    </tr>\n",
       "    <tr>\n",
       "      <th>10</th>\n",
       "      <td>FINANZTYP</td>\n",
       "      <td>person</td>\n",
       "      <td>categorical</td>\n",
       "      <td>[-1]</td>\n",
       "    </tr>\n",
       "    <tr>\n",
       "      <th>11</th>\n",
       "      <td>GEBURTSJAHR</td>\n",
       "      <td>person</td>\n",
       "      <td>numeric</td>\n",
       "      <td>[0]</td>\n",
       "    </tr>\n",
       "    <tr>\n",
       "      <th>12</th>\n",
       "      <td>GFK_URLAUBERTYP</td>\n",
       "      <td>person</td>\n",
       "      <td>categorical</td>\n",
       "      <td>[]</td>\n",
       "    </tr>\n",
       "    <tr>\n",
       "      <th>13</th>\n",
       "      <td>GREEN_AVANTGARDE</td>\n",
       "      <td>person</td>\n",
       "      <td>categorical</td>\n",
       "      <td>[]</td>\n",
       "    </tr>\n",
       "    <tr>\n",
       "      <th>14</th>\n",
       "      <td>HEALTH_TYP</td>\n",
       "      <td>person</td>\n",
       "      <td>ordinal</td>\n",
       "      <td>[-1,0]</td>\n",
       "    </tr>\n",
       "    <tr>\n",
       "      <th>15</th>\n",
       "      <td>LP_LEBENSPHASE_FEIN</td>\n",
       "      <td>person</td>\n",
       "      <td>mixed</td>\n",
       "      <td>[0]</td>\n",
       "    </tr>\n",
       "    <tr>\n",
       "      <th>16</th>\n",
       "      <td>LP_LEBENSPHASE_GROB</td>\n",
       "      <td>person</td>\n",
       "      <td>mixed</td>\n",
       "      <td>[0]</td>\n",
       "    </tr>\n",
       "    <tr>\n",
       "      <th>17</th>\n",
       "      <td>LP_FAMILIE_FEIN</td>\n",
       "      <td>person</td>\n",
       "      <td>categorical</td>\n",
       "      <td>[0]</td>\n",
       "    </tr>\n",
       "    <tr>\n",
       "      <th>18</th>\n",
       "      <td>LP_FAMILIE_GROB</td>\n",
       "      <td>person</td>\n",
       "      <td>categorical</td>\n",
       "      <td>[0]</td>\n",
       "    </tr>\n",
       "    <tr>\n",
       "      <th>19</th>\n",
       "      <td>LP_STATUS_FEIN</td>\n",
       "      <td>person</td>\n",
       "      <td>categorical</td>\n",
       "      <td>[0]</td>\n",
       "    </tr>\n",
       "    <tr>\n",
       "      <th>20</th>\n",
       "      <td>LP_STATUS_GROB</td>\n",
       "      <td>person</td>\n",
       "      <td>categorical</td>\n",
       "      <td>[0]</td>\n",
       "    </tr>\n",
       "    <tr>\n",
       "      <th>21</th>\n",
       "      <td>NATIONALITAET_KZ</td>\n",
       "      <td>person</td>\n",
       "      <td>categorical</td>\n",
       "      <td>[-1,0]</td>\n",
       "    </tr>\n",
       "    <tr>\n",
       "      <th>22</th>\n",
       "      <td>PRAEGENDE_JUGENDJAHRE</td>\n",
       "      <td>person</td>\n",
       "      <td>mixed</td>\n",
       "      <td>[-1,0]</td>\n",
       "    </tr>\n",
       "    <tr>\n",
       "      <th>23</th>\n",
       "      <td>RETOURTYP_BK_S</td>\n",
       "      <td>person</td>\n",
       "      <td>ordinal</td>\n",
       "      <td>[0]</td>\n",
       "    </tr>\n",
       "    <tr>\n",
       "      <th>24</th>\n",
       "      <td>SEMIO_SOZ</td>\n",
       "      <td>person</td>\n",
       "      <td>ordinal</td>\n",
       "      <td>[-1,9]</td>\n",
       "    </tr>\n",
       "    <tr>\n",
       "      <th>25</th>\n",
       "      <td>SEMIO_FAM</td>\n",
       "      <td>person</td>\n",
       "      <td>ordinal</td>\n",
       "      <td>[-1,9]</td>\n",
       "    </tr>\n",
       "    <tr>\n",
       "      <th>26</th>\n",
       "      <td>SEMIO_REL</td>\n",
       "      <td>person</td>\n",
       "      <td>ordinal</td>\n",
       "      <td>[-1,9]</td>\n",
       "    </tr>\n",
       "    <tr>\n",
       "      <th>27</th>\n",
       "      <td>SEMIO_MAT</td>\n",
       "      <td>person</td>\n",
       "      <td>ordinal</td>\n",
       "      <td>[-1,9]</td>\n",
       "    </tr>\n",
       "    <tr>\n",
       "      <th>28</th>\n",
       "      <td>SEMIO_VERT</td>\n",
       "      <td>person</td>\n",
       "      <td>ordinal</td>\n",
       "      <td>[-1,9]</td>\n",
       "    </tr>\n",
       "    <tr>\n",
       "      <th>29</th>\n",
       "      <td>SEMIO_LUST</td>\n",
       "      <td>person</td>\n",
       "      <td>ordinal</td>\n",
       "      <td>[-1,9]</td>\n",
       "    </tr>\n",
       "    <tr>\n",
       "      <th>...</th>\n",
       "      <td>...</td>\n",
       "      <td>...</td>\n",
       "      <td>...</td>\n",
       "      <td>...</td>\n",
       "    </tr>\n",
       "    <tr>\n",
       "      <th>55</th>\n",
       "      <td>OST_WEST_KZ</td>\n",
       "      <td>building</td>\n",
       "      <td>categorical</td>\n",
       "      <td>[-1]</td>\n",
       "    </tr>\n",
       "    <tr>\n",
       "      <th>56</th>\n",
       "      <td>WOHNLAGE</td>\n",
       "      <td>building</td>\n",
       "      <td>mixed</td>\n",
       "      <td>[-1]</td>\n",
       "    </tr>\n",
       "    <tr>\n",
       "      <th>57</th>\n",
       "      <td>CAMEO_DEUG_2015</td>\n",
       "      <td>microcell_rr4</td>\n",
       "      <td>categorical</td>\n",
       "      <td>[-1,X]</td>\n",
       "    </tr>\n",
       "    <tr>\n",
       "      <th>58</th>\n",
       "      <td>CAMEO_DEU_2015</td>\n",
       "      <td>microcell_rr4</td>\n",
       "      <td>categorical</td>\n",
       "      <td>[XX]</td>\n",
       "    </tr>\n",
       "    <tr>\n",
       "      <th>59</th>\n",
       "      <td>CAMEO_INTL_2015</td>\n",
       "      <td>microcell_rr4</td>\n",
       "      <td>mixed</td>\n",
       "      <td>[-1,XX]</td>\n",
       "    </tr>\n",
       "    <tr>\n",
       "      <th>60</th>\n",
       "      <td>KBA05_ANTG1</td>\n",
       "      <td>microcell_rr3</td>\n",
       "      <td>ordinal</td>\n",
       "      <td>[-1]</td>\n",
       "    </tr>\n",
       "    <tr>\n",
       "      <th>61</th>\n",
       "      <td>KBA05_ANTG2</td>\n",
       "      <td>microcell_rr3</td>\n",
       "      <td>ordinal</td>\n",
       "      <td>[-1]</td>\n",
       "    </tr>\n",
       "    <tr>\n",
       "      <th>62</th>\n",
       "      <td>KBA05_ANTG3</td>\n",
       "      <td>microcell_rr3</td>\n",
       "      <td>ordinal</td>\n",
       "      <td>[-1]</td>\n",
       "    </tr>\n",
       "    <tr>\n",
       "      <th>63</th>\n",
       "      <td>KBA05_ANTG4</td>\n",
       "      <td>microcell_rr3</td>\n",
       "      <td>ordinal</td>\n",
       "      <td>[-1]</td>\n",
       "    </tr>\n",
       "    <tr>\n",
       "      <th>64</th>\n",
       "      <td>KBA05_BAUMAX</td>\n",
       "      <td>microcell_rr3</td>\n",
       "      <td>mixed</td>\n",
       "      <td>[-1,0]</td>\n",
       "    </tr>\n",
       "    <tr>\n",
       "      <th>65</th>\n",
       "      <td>KBA05_GBZ</td>\n",
       "      <td>microcell_rr3</td>\n",
       "      <td>ordinal</td>\n",
       "      <td>[-1,0]</td>\n",
       "    </tr>\n",
       "    <tr>\n",
       "      <th>66</th>\n",
       "      <td>BALLRAUM</td>\n",
       "      <td>postcode</td>\n",
       "      <td>ordinal</td>\n",
       "      <td>[-1]</td>\n",
       "    </tr>\n",
       "    <tr>\n",
       "      <th>67</th>\n",
       "      <td>EWDICHTE</td>\n",
       "      <td>postcode</td>\n",
       "      <td>ordinal</td>\n",
       "      <td>[-1]</td>\n",
       "    </tr>\n",
       "    <tr>\n",
       "      <th>68</th>\n",
       "      <td>INNENSTADT</td>\n",
       "      <td>postcode</td>\n",
       "      <td>ordinal</td>\n",
       "      <td>[-1]</td>\n",
       "    </tr>\n",
       "    <tr>\n",
       "      <th>69</th>\n",
       "      <td>GEBAEUDETYP_RASTER</td>\n",
       "      <td>region_rr1</td>\n",
       "      <td>ordinal</td>\n",
       "      <td>[]</td>\n",
       "    </tr>\n",
       "    <tr>\n",
       "      <th>70</th>\n",
       "      <td>KKK</td>\n",
       "      <td>region_rr1</td>\n",
       "      <td>ordinal</td>\n",
       "      <td>[-1,0]</td>\n",
       "    </tr>\n",
       "    <tr>\n",
       "      <th>71</th>\n",
       "      <td>MOBI_REGIO</td>\n",
       "      <td>region_rr1</td>\n",
       "      <td>ordinal</td>\n",
       "      <td>[]</td>\n",
       "    </tr>\n",
       "    <tr>\n",
       "      <th>72</th>\n",
       "      <td>ONLINE_AFFINITAET</td>\n",
       "      <td>region_rr1</td>\n",
       "      <td>ordinal</td>\n",
       "      <td>[]</td>\n",
       "    </tr>\n",
       "    <tr>\n",
       "      <th>73</th>\n",
       "      <td>REGIOTYP</td>\n",
       "      <td>region_rr1</td>\n",
       "      <td>ordinal</td>\n",
       "      <td>[-1,0]</td>\n",
       "    </tr>\n",
       "    <tr>\n",
       "      <th>74</th>\n",
       "      <td>KBA13_ANZAHL_PKW</td>\n",
       "      <td>macrocell_plz8</td>\n",
       "      <td>numeric</td>\n",
       "      <td>[]</td>\n",
       "    </tr>\n",
       "    <tr>\n",
       "      <th>75</th>\n",
       "      <td>PLZ8_ANTG1</td>\n",
       "      <td>macrocell_plz8</td>\n",
       "      <td>ordinal</td>\n",
       "      <td>[-1]</td>\n",
       "    </tr>\n",
       "    <tr>\n",
       "      <th>76</th>\n",
       "      <td>PLZ8_ANTG2</td>\n",
       "      <td>macrocell_plz8</td>\n",
       "      <td>ordinal</td>\n",
       "      <td>[-1]</td>\n",
       "    </tr>\n",
       "    <tr>\n",
       "      <th>77</th>\n",
       "      <td>PLZ8_ANTG3</td>\n",
       "      <td>macrocell_plz8</td>\n",
       "      <td>ordinal</td>\n",
       "      <td>[-1]</td>\n",
       "    </tr>\n",
       "    <tr>\n",
       "      <th>78</th>\n",
       "      <td>PLZ8_ANTG4</td>\n",
       "      <td>macrocell_plz8</td>\n",
       "      <td>ordinal</td>\n",
       "      <td>[-1]</td>\n",
       "    </tr>\n",
       "    <tr>\n",
       "      <th>79</th>\n",
       "      <td>PLZ8_BAUMAX</td>\n",
       "      <td>macrocell_plz8</td>\n",
       "      <td>mixed</td>\n",
       "      <td>[-1,0]</td>\n",
       "    </tr>\n",
       "    <tr>\n",
       "      <th>80</th>\n",
       "      <td>PLZ8_HHZ</td>\n",
       "      <td>macrocell_plz8</td>\n",
       "      <td>ordinal</td>\n",
       "      <td>[-1]</td>\n",
       "    </tr>\n",
       "    <tr>\n",
       "      <th>81</th>\n",
       "      <td>PLZ8_GBZ</td>\n",
       "      <td>macrocell_plz8</td>\n",
       "      <td>ordinal</td>\n",
       "      <td>[-1]</td>\n",
       "    </tr>\n",
       "    <tr>\n",
       "      <th>82</th>\n",
       "      <td>ARBEIT</td>\n",
       "      <td>community</td>\n",
       "      <td>ordinal</td>\n",
       "      <td>[-1,9]</td>\n",
       "    </tr>\n",
       "    <tr>\n",
       "      <th>83</th>\n",
       "      <td>ORTSGR_KLS9</td>\n",
       "      <td>community</td>\n",
       "      <td>ordinal</td>\n",
       "      <td>[-1,0]</td>\n",
       "    </tr>\n",
       "    <tr>\n",
       "      <th>84</th>\n",
       "      <td>RELAT_AB</td>\n",
       "      <td>community</td>\n",
       "      <td>ordinal</td>\n",
       "      <td>[-1,9]</td>\n",
       "    </tr>\n",
       "  </tbody>\n",
       "</table>\n",
       "<p>85 rows × 4 columns</p>\n",
       "</div>"
      ],
      "text/plain": [
       "                attribute information_level         type missing_or_unknown\n",
       "0                AGER_TYP            person  categorical             [-1,0]\n",
       "1    ALTERSKATEGORIE_GROB            person      ordinal           [-1,0,9]\n",
       "2               ANREDE_KZ            person  categorical             [-1,0]\n",
       "3           CJT_GESAMTTYP            person  categorical                [0]\n",
       "4       FINANZ_MINIMALIST            person      ordinal               [-1]\n",
       "5           FINANZ_SPARER            person      ordinal               [-1]\n",
       "6        FINANZ_VORSORGER            person      ordinal               [-1]\n",
       "7          FINANZ_ANLEGER            person      ordinal               [-1]\n",
       "8   FINANZ_UNAUFFAELLIGER            person      ordinal               [-1]\n",
       "9        FINANZ_HAUSBAUER            person      ordinal               [-1]\n",
       "10              FINANZTYP            person  categorical               [-1]\n",
       "11            GEBURTSJAHR            person      numeric                [0]\n",
       "12        GFK_URLAUBERTYP            person  categorical                 []\n",
       "13       GREEN_AVANTGARDE            person  categorical                 []\n",
       "14             HEALTH_TYP            person      ordinal             [-1,0]\n",
       "15    LP_LEBENSPHASE_FEIN            person        mixed                [0]\n",
       "16    LP_LEBENSPHASE_GROB            person        mixed                [0]\n",
       "17        LP_FAMILIE_FEIN            person  categorical                [0]\n",
       "18        LP_FAMILIE_GROB            person  categorical                [0]\n",
       "19         LP_STATUS_FEIN            person  categorical                [0]\n",
       "20         LP_STATUS_GROB            person  categorical                [0]\n",
       "21       NATIONALITAET_KZ            person  categorical             [-1,0]\n",
       "22  PRAEGENDE_JUGENDJAHRE            person        mixed             [-1,0]\n",
       "23         RETOURTYP_BK_S            person      ordinal                [0]\n",
       "24              SEMIO_SOZ            person      ordinal             [-1,9]\n",
       "25              SEMIO_FAM            person      ordinal             [-1,9]\n",
       "26              SEMIO_REL            person      ordinal             [-1,9]\n",
       "27              SEMIO_MAT            person      ordinal             [-1,9]\n",
       "28             SEMIO_VERT            person      ordinal             [-1,9]\n",
       "29             SEMIO_LUST            person      ordinal             [-1,9]\n",
       "..                    ...               ...          ...                ...\n",
       "55            OST_WEST_KZ          building  categorical               [-1]\n",
       "56               WOHNLAGE          building        mixed               [-1]\n",
       "57        CAMEO_DEUG_2015     microcell_rr4  categorical             [-1,X]\n",
       "58         CAMEO_DEU_2015     microcell_rr4  categorical               [XX]\n",
       "59        CAMEO_INTL_2015     microcell_rr4        mixed            [-1,XX]\n",
       "60            KBA05_ANTG1     microcell_rr3      ordinal               [-1]\n",
       "61            KBA05_ANTG2     microcell_rr3      ordinal               [-1]\n",
       "62            KBA05_ANTG3     microcell_rr3      ordinal               [-1]\n",
       "63            KBA05_ANTG4     microcell_rr3      ordinal               [-1]\n",
       "64           KBA05_BAUMAX     microcell_rr3        mixed             [-1,0]\n",
       "65              KBA05_GBZ     microcell_rr3      ordinal             [-1,0]\n",
       "66               BALLRAUM          postcode      ordinal               [-1]\n",
       "67               EWDICHTE          postcode      ordinal               [-1]\n",
       "68             INNENSTADT          postcode      ordinal               [-1]\n",
       "69     GEBAEUDETYP_RASTER        region_rr1      ordinal                 []\n",
       "70                    KKK        region_rr1      ordinal             [-1,0]\n",
       "71             MOBI_REGIO        region_rr1      ordinal                 []\n",
       "72      ONLINE_AFFINITAET        region_rr1      ordinal                 []\n",
       "73               REGIOTYP        region_rr1      ordinal             [-1,0]\n",
       "74       KBA13_ANZAHL_PKW    macrocell_plz8      numeric                 []\n",
       "75             PLZ8_ANTG1    macrocell_plz8      ordinal               [-1]\n",
       "76             PLZ8_ANTG2    macrocell_plz8      ordinal               [-1]\n",
       "77             PLZ8_ANTG3    macrocell_plz8      ordinal               [-1]\n",
       "78             PLZ8_ANTG4    macrocell_plz8      ordinal               [-1]\n",
       "79            PLZ8_BAUMAX    macrocell_plz8        mixed             [-1,0]\n",
       "80               PLZ8_HHZ    macrocell_plz8      ordinal               [-1]\n",
       "81               PLZ8_GBZ    macrocell_plz8      ordinal               [-1]\n",
       "82                 ARBEIT         community      ordinal             [-1,9]\n",
       "83            ORTSGR_KLS9         community      ordinal             [-1,0]\n",
       "84               RELAT_AB         community      ordinal             [-1,9]\n",
       "\n",
       "[85 rows x 4 columns]"
      ]
     },
     "execution_count": 4,
     "metadata": {},
     "output_type": "execute_result"
    }
   ],
   "source": [
    "feat_info"
   ]
  },
  {
   "cell_type": "markdown",
   "metadata": {},
   "source": [
    "> **Tip**: Add additional cells to keep everything in reasonably-sized chunks! Keyboard shortcut `esc --> a` (press escape to enter command mode, then press the 'A' key) adds a new cell before the active cell, and `esc --> b` adds a new cell after the active cell. If you need to convert an active cell to a markdown cell, use `esc --> m` and to convert to a code cell, use `esc --> y`. \n",
    "\n",
    "## Step 1: Preprocessing\n",
    "\n",
    "### Step 1.1: Assess Missing Data\n",
    "\n",
    "The feature summary file contains a summary of properties for each demographics data column. You will use this file to help you make cleaning decisions during this stage of the project. First of all, you should assess the demographics data in terms of missing data. Pay attention to the following points as you perform your analysis, and take notes on what you observe. Make sure that you fill in the **Discussion** cell with your findings and decisions at the end of each step that has one!\n",
    "\n",
    "#### Step 1.1.1: Convert Missing Value Codes to NaNs\n",
    "The fourth column of the feature attributes summary (loaded in above as `feat_info`) documents the codes from the data dictionary that indicate missing or unknown data. While the file encodes this as a list (e.g. `[-1,0]`), this will get read in as a string object. You'll need to do a little bit of parsing to make use of it to identify and clean the data. Convert data that matches a 'missing' or 'unknown' value code into a numpy NaN value. You might want to see how much data takes on a 'missing' or 'unknown' code, and how much data is naturally missing, as a point of interest.\n",
    "\n",
    "**As one more reminder, you are encouraged to add additional cells to break up your analysis into manageable chunks.**"
   ]
  },
  {
   "cell_type": "code",
   "execution_count": 5,
   "metadata": {},
   "outputs": [
    {
     "name": "stderr",
     "output_type": "stream",
     "text": [
      "/opt/conda/lib/python3.6/site-packages/ipykernel_launcher.py:18: SettingWithCopyWarning: \n",
      "A value is trying to be set on a copy of a slice from a DataFrame\n",
      "\n",
      "See the caveats in the documentation: http://pandas.pydata.org/pandas-docs/stable/indexing.html#indexing-view-versus-copy\n"
     ]
    },
    {
     "name": "stdout",
     "output_type": "stream",
     "text": [
      "Encoded values succesfully tuned!\n"
     ]
    }
   ],
   "source": [
    "# Identify missing or unknown data values and convert them to NaNs.\n",
    "\n",
    "#Converting encoded values and features columns into array for proper indexing\n",
    "missing_values = feat_info['missing_or_unknown']\n",
    "missing_values = np.array(missing_values)\n",
    "features= np.array(feat_info['attribute'])\n",
    "#Iterating through each variable\n",
    "for i in range(len(missing_values)):\n",
    "    #Looking at  strings of length greater than 2 to avoid empty brackets\n",
    "    if len(missing_values[i])>2: \n",
    "        #Treatments of the strings, first removing the brackets and then splitting to yield a list\n",
    "        missing_values[i] = missing_values[i][1:-1]\n",
    "        missing_values[i] = missing_values[i].split(',')\n",
    "        for j in range(len(missing_values[i])):\n",
    "            #integer conversion for such values\n",
    "            if missing_values[i][j] not in ['X','XX']:\n",
    "                missing_values[i][j] = int(missing_values[i][j])\n",
    "            azdias[features[i]][azdias[features[i]] == missing_values[i][j]] = np.nan        \n",
    "print('Encoded values succesfully tuned!')\n",
    "\n"
   ]
  },
  {
   "cell_type": "code",
   "execution_count": 6,
   "metadata": {},
   "outputs": [
    {
     "data": {
      "text/html": [
       "<div>\n",
       "<style scoped>\n",
       "    .dataframe tbody tr th:only-of-type {\n",
       "        vertical-align: middle;\n",
       "    }\n",
       "\n",
       "    .dataframe tbody tr th {\n",
       "        vertical-align: top;\n",
       "    }\n",
       "\n",
       "    .dataframe thead th {\n",
       "        text-align: right;\n",
       "    }\n",
       "</style>\n",
       "<table border=\"1\" class=\"dataframe\">\n",
       "  <thead>\n",
       "    <tr style=\"text-align: right;\">\n",
       "      <th></th>\n",
       "      <th>AGER_TYP</th>\n",
       "      <th>ALTERSKATEGORIE_GROB</th>\n",
       "      <th>ANREDE_KZ</th>\n",
       "      <th>CJT_GESAMTTYP</th>\n",
       "      <th>FINANZ_MINIMALIST</th>\n",
       "      <th>FINANZ_SPARER</th>\n",
       "      <th>FINANZ_VORSORGER</th>\n",
       "      <th>FINANZ_ANLEGER</th>\n",
       "      <th>FINANZ_UNAUFFAELLIGER</th>\n",
       "      <th>FINANZ_HAUSBAUER</th>\n",
       "      <th>...</th>\n",
       "      <th>PLZ8_ANTG1</th>\n",
       "      <th>PLZ8_ANTG2</th>\n",
       "      <th>PLZ8_ANTG3</th>\n",
       "      <th>PLZ8_ANTG4</th>\n",
       "      <th>PLZ8_BAUMAX</th>\n",
       "      <th>PLZ8_HHZ</th>\n",
       "      <th>PLZ8_GBZ</th>\n",
       "      <th>ARBEIT</th>\n",
       "      <th>ORTSGR_KLS9</th>\n",
       "      <th>RELAT_AB</th>\n",
       "    </tr>\n",
       "  </thead>\n",
       "  <tbody>\n",
       "    <tr>\n",
       "      <th>0</th>\n",
       "      <td>NaN</td>\n",
       "      <td>2.0</td>\n",
       "      <td>1</td>\n",
       "      <td>2.0</td>\n",
       "      <td>3</td>\n",
       "      <td>4</td>\n",
       "      <td>3</td>\n",
       "      <td>5</td>\n",
       "      <td>5</td>\n",
       "      <td>3</td>\n",
       "      <td>...</td>\n",
       "      <td>NaN</td>\n",
       "      <td>NaN</td>\n",
       "      <td>NaN</td>\n",
       "      <td>NaN</td>\n",
       "      <td>NaN</td>\n",
       "      <td>NaN</td>\n",
       "      <td>NaN</td>\n",
       "      <td>NaN</td>\n",
       "      <td>NaN</td>\n",
       "      <td>NaN</td>\n",
       "    </tr>\n",
       "    <tr>\n",
       "      <th>1</th>\n",
       "      <td>NaN</td>\n",
       "      <td>1.0</td>\n",
       "      <td>2</td>\n",
       "      <td>5.0</td>\n",
       "      <td>1</td>\n",
       "      <td>5</td>\n",
       "      <td>2</td>\n",
       "      <td>5</td>\n",
       "      <td>4</td>\n",
       "      <td>5</td>\n",
       "      <td>...</td>\n",
       "      <td>2.0</td>\n",
       "      <td>3.0</td>\n",
       "      <td>2.0</td>\n",
       "      <td>1.0</td>\n",
       "      <td>1.0</td>\n",
       "      <td>5.0</td>\n",
       "      <td>4.0</td>\n",
       "      <td>3.0</td>\n",
       "      <td>5.0</td>\n",
       "      <td>4.0</td>\n",
       "    </tr>\n",
       "    <tr>\n",
       "      <th>2</th>\n",
       "      <td>NaN</td>\n",
       "      <td>3.0</td>\n",
       "      <td>2</td>\n",
       "      <td>3.0</td>\n",
       "      <td>1</td>\n",
       "      <td>4</td>\n",
       "      <td>1</td>\n",
       "      <td>2</td>\n",
       "      <td>3</td>\n",
       "      <td>5</td>\n",
       "      <td>...</td>\n",
       "      <td>3.0</td>\n",
       "      <td>3.0</td>\n",
       "      <td>1.0</td>\n",
       "      <td>0.0</td>\n",
       "      <td>1.0</td>\n",
       "      <td>4.0</td>\n",
       "      <td>4.0</td>\n",
       "      <td>3.0</td>\n",
       "      <td>5.0</td>\n",
       "      <td>2.0</td>\n",
       "    </tr>\n",
       "    <tr>\n",
       "      <th>3</th>\n",
       "      <td>2.0</td>\n",
       "      <td>4.0</td>\n",
       "      <td>2</td>\n",
       "      <td>2.0</td>\n",
       "      <td>4</td>\n",
       "      <td>2</td>\n",
       "      <td>5</td>\n",
       "      <td>2</td>\n",
       "      <td>1</td>\n",
       "      <td>2</td>\n",
       "      <td>...</td>\n",
       "      <td>2.0</td>\n",
       "      <td>2.0</td>\n",
       "      <td>2.0</td>\n",
       "      <td>0.0</td>\n",
       "      <td>1.0</td>\n",
       "      <td>3.0</td>\n",
       "      <td>4.0</td>\n",
       "      <td>2.0</td>\n",
       "      <td>3.0</td>\n",
       "      <td>3.0</td>\n",
       "    </tr>\n",
       "    <tr>\n",
       "      <th>4</th>\n",
       "      <td>NaN</td>\n",
       "      <td>3.0</td>\n",
       "      <td>1</td>\n",
       "      <td>5.0</td>\n",
       "      <td>4</td>\n",
       "      <td>3</td>\n",
       "      <td>4</td>\n",
       "      <td>1</td>\n",
       "      <td>3</td>\n",
       "      <td>2</td>\n",
       "      <td>...</td>\n",
       "      <td>2.0</td>\n",
       "      <td>4.0</td>\n",
       "      <td>2.0</td>\n",
       "      <td>1.0</td>\n",
       "      <td>2.0</td>\n",
       "      <td>3.0</td>\n",
       "      <td>3.0</td>\n",
       "      <td>4.0</td>\n",
       "      <td>6.0</td>\n",
       "      <td>5.0</td>\n",
       "    </tr>\n",
       "  </tbody>\n",
       "</table>\n",
       "<p>5 rows × 85 columns</p>\n",
       "</div>"
      ],
      "text/plain": [
       "   AGER_TYP  ALTERSKATEGORIE_GROB  ANREDE_KZ  CJT_GESAMTTYP  \\\n",
       "0       NaN                   2.0          1            2.0   \n",
       "1       NaN                   1.0          2            5.0   \n",
       "2       NaN                   3.0          2            3.0   \n",
       "3       2.0                   4.0          2            2.0   \n",
       "4       NaN                   3.0          1            5.0   \n",
       "\n",
       "   FINANZ_MINIMALIST  FINANZ_SPARER  FINANZ_VORSORGER  FINANZ_ANLEGER  \\\n",
       "0                  3              4                 3               5   \n",
       "1                  1              5                 2               5   \n",
       "2                  1              4                 1               2   \n",
       "3                  4              2                 5               2   \n",
       "4                  4              3                 4               1   \n",
       "\n",
       "   FINANZ_UNAUFFAELLIGER  FINANZ_HAUSBAUER    ...     PLZ8_ANTG1  PLZ8_ANTG2  \\\n",
       "0                      5                 3    ...            NaN         NaN   \n",
       "1                      4                 5    ...            2.0         3.0   \n",
       "2                      3                 5    ...            3.0         3.0   \n",
       "3                      1                 2    ...            2.0         2.0   \n",
       "4                      3                 2    ...            2.0         4.0   \n",
       "\n",
       "   PLZ8_ANTG3  PLZ8_ANTG4  PLZ8_BAUMAX  PLZ8_HHZ  PLZ8_GBZ  ARBEIT  \\\n",
       "0         NaN         NaN          NaN       NaN       NaN     NaN   \n",
       "1         2.0         1.0          1.0       5.0       4.0     3.0   \n",
       "2         1.0         0.0          1.0       4.0       4.0     3.0   \n",
       "3         2.0         0.0          1.0       3.0       4.0     2.0   \n",
       "4         2.0         1.0          2.0       3.0       3.0     4.0   \n",
       "\n",
       "   ORTSGR_KLS9  RELAT_AB  \n",
       "0          NaN       NaN  \n",
       "1          5.0       4.0  \n",
       "2          5.0       2.0  \n",
       "3          3.0       3.0  \n",
       "4          6.0       5.0  \n",
       "\n",
       "[5 rows x 85 columns]"
      ]
     },
     "execution_count": 6,
     "metadata": {},
     "output_type": "execute_result"
    }
   ],
   "source": [
    "azdias.head()"
   ]
  },
  {
   "cell_type": "code",
   "execution_count": 7,
   "metadata": {},
   "outputs": [
    {
     "data": {
      "text/plain": [
       "array([[-1, 0], [-1, 0, 9], [-1, 0], [0], [-1], [-1], [-1], [-1], [-1],\n",
       "       [-1], [-1], [0], '[]', '[]', [-1, 0], [0], [0], [0], [0], [0], [0],\n",
       "       [-1, 0], [-1, 0], [0], [-1, 9], [-1, 9], [-1, 9], [-1, 9], [-1, 9],\n",
       "       [-1, 9], [-1, 9], [-1, 9], [-1, 9], [-1, 9], [-1, 9], [-1, 9],\n",
       "       [-1, 9], [-1, 9], [-1], [-1], [-1, 0], [-1], [-1, 9], [0], '[]',\n",
       "       '[]', [-1, 0], [-1], [-1, 0], [-1, 0], [0], '[]', [-1, 0], '[]',\n",
       "       [0], [-1], [-1], [-1, 'X'], ['XX'], [-1, 'XX'], [-1], [-1], [-1],\n",
       "       [-1], [-1, 0], [-1, 0], [-1], [-1], [-1], '[]', [-1, 0], '[]', '[]',\n",
       "       [-1, 0], '[]', [-1], [-1], [-1], [-1], [-1, 0], [-1], [-1], [-1, 9],\n",
       "       [-1, 0], [-1, 9]], dtype=object)"
      ]
     },
     "execution_count": 7,
     "metadata": {},
     "output_type": "execute_result"
    }
   ],
   "source": [
    "missing_values"
   ]
  },
  {
   "cell_type": "markdown",
   "metadata": {},
   "source": [
    "#### Step 1.1.2: Assess Missing Data in Each Column\n",
    "\n",
    "How much missing data is present in each column? There are a few columns that are outliers in terms of the proportion of values that are missing. You will want to use matplotlib's [`hist()`](https://matplotlib.org/api/_as_gen/matplotlib.pyplot.hist.html) function to visualize the distribution of missing value counts to find these columns. Identify and document these columns. While some of these columns might have justifications for keeping or re-encoding the data, for this project you should just remove them from the dataframe. (Feel free to make remarks about these outlier columns in the discussion, however!)\n",
    "\n",
    "For the remaining features, are there any patterns in which columns have, or share, missing data?"
   ]
  },
  {
   "cell_type": "code",
   "execution_count": 8,
   "metadata": {},
   "outputs": [
    {
     "data": {
      "text/plain": [
       "RangeIndex(start=0, stop=1, step=1)"
      ]
     },
     "execution_count": 8,
     "metadata": {},
     "output_type": "execute_result"
    }
   ],
   "source": [
    "# Perform an assessment of how much missing data there is in each column of the\n",
    "# dataset.\n",
    "#Obtaining the number of null values per feature and sorting in descending order\n",
    "missing_per_column = pd.DataFrame(pd.isnull(azdias).sum().sort_values(ascending = False))\n",
    "missing_per_column.columns\n",
    "\n",
    "     "
   ]
  },
  {
   "cell_type": "code",
   "execution_count": 9,
   "metadata": {},
   "outputs": [
    {
     "data": {
      "image/png": "[encoded data removed]",
      "text/plain": [
       "<matplotlib.figure.Figure at 0x7fd8fc06eeb8>"
      ]
     },
     "metadata": {
      "needs_background": "light"
     },
     "output_type": "display_data"
    }
   ],
   "source": [
    "# Investigate patterns in the amount of missing data in each column.\n",
    "fig = plt.figure(figsize = (16,6))\n",
    "plt.hist(missing_per_column.values, bins =10, facecolor='blue')\n",
    "plt.show()\n",
    "\n"
   ]
  },
  {
   "cell_type": "code",
   "execution_count": 10,
   "metadata": {},
   "outputs": [
    {
     "data": {
      "text/plain": [
       "array([[889061],\n",
       "       [685843],\n",
       "       [584612],\n",
       "       [476524],\n",
       "       [392318],\n",
       "       [310267],\n",
       "       [158064],\n",
       "       [158064],\n",
       "       [147988],\n",
       "       [133324]])"
      ]
     },
     "execution_count": 10,
     "metadata": {},
     "output_type": "execute_result"
    }
   ],
   "source": [
    "#looking into the actual values to confirm visual info\n",
    "missing_per_column.values[:10]"
   ]
  },
  {
   "cell_type": "code",
   "execution_count": 11,
   "metadata": {},
   "outputs": [
    {
     "name": "stdout",
     "output_type": "stream",
     "text": [
      "['TITEL_KZ', 'AGER_TYP', 'KK_KUNDENTYP', 'KBA05_BAUMAX', 'GEBURTSJAHR', 'ALTER_HH']\n",
      "<class 'list'>\n",
      "85\n"
     ]
    }
   ],
   "source": [
    "# Remove the outlier columns from the dataset. (You'll perform other data\n",
    "# engineering tasks such as re-encoding and imputation later.)\n",
    "#Selecting the indexes of the ouliers for later removal of such columns\n",
    "outliers = missing_per_column[:6]\n",
    "outliers_names = list(outliers.index)\n",
    "print(outliers_names)\n",
    "print(type(outliers_names))\n",
    "print(len(azdias.columns))\n",
    "azdias_cleaned = azdias.drop(outliers_names, axis = 1, inplace = True)\n",
    "\n",
    "\n"
   ]
  },
  {
   "cell_type": "markdown",
   "metadata": {},
   "source": [
    "#### Discussion 1.1.2: Assess Missing Data in Each Column\n",
    "\n",
    "Most columns are basicly stacked around 0 and 200000 missing values, with a wide gap with the next column, which appears to be missing more than 300000 values. From that mark onwards there are another five columns that fit the description of outliers. These six columns are the following: ['TITEL_KZ', 'AGER_TYP', 'KK_KUNDENTYP', 'KBA05_BAUMAX', 'GEBURTSJAHR', 'ALTER_HH'] "
   ]
  },
  {
   "cell_type": "markdown",
   "metadata": {},
   "source": [
    "#### Step 1.1.3: Assess Missing Data in Each Row\n",
    "\n",
    "Now, you'll perform a similar assessment for the rows of the dataset. How much data is missing in each row? As with the columns, you should see some groups of points that have a very different numbers of missing values. Divide the data into two subsets: one for data points that are above some threshold for missing values, and a second subset for points below that threshold.\n",
    "\n",
    "In order to know what to do with the outlier rows, we should see if the distribution of data values on columns that are not missing data (or are missing very little data) are similar or different between the two groups. Select at least five of these columns and compare the distribution of values.\n",
    "- You can use seaborn's [`countplot()`](https://seaborn.pydata.org/generated/seaborn.countplot.html) function to create a bar chart of code frequencies and matplotlib's [`subplot()`](https://matplotlib.org/api/_as_gen/matplotlib.pyplot.subplot.html) function to put bar charts for the two subplots side by side.\n",
    "- To reduce repeated code, you might want to write a function that can perform this comparison, taking as one of its arguments a column to be compared.\n",
    "\n",
    "Depending on what you observe in your comparison, this will have implications on how you approach your conclusions later in the analysis. If the distributions of non-missing features look similar between the data with many missing values and the data with few or no missing values, then we could argue that simply dropping those points from the analysis won't present a major issue. On the other hand, if the data with many missing values looks very different from the data with few or no missing values, then we should make a note on those data as special. We'll revisit these data later on. **Either way, you should continue your analysis for now using just the subset of the data with few or no missing values.**"
   ]
  },
  {
   "cell_type": "code",
   "execution_count": 12,
   "metadata": {},
   "outputs": [
    {
     "name": "stdout",
     "output_type": "stream",
     "text": [
      "0    43\n",
      "1     0\n",
      "2     0\n",
      "3     7\n",
      "4     0\n",
      "dtype: int64\n"
     ]
    }
   ],
   "source": [
    "# How much data is missing in each row of the dataset?\n",
    "#Performing the same computations, but per row now\n",
    "missing_rows = azdias.isnull().sum(axis = 1)\n",
    "print(missing_rows.head())"
   ]
  },
  {
   "cell_type": "code",
   "execution_count": 13,
   "metadata": {},
   "outputs": [
    {
     "data": {
      "text/html": [
       "<div>\n",
       "<style scoped>\n",
       "    .dataframe tbody tr th:only-of-type {\n",
       "        vertical-align: middle;\n",
       "    }\n",
       "\n",
       "    .dataframe tbody tr th {\n",
       "        vertical-align: top;\n",
       "    }\n",
       "\n",
       "    .dataframe thead th {\n",
       "        text-align: right;\n",
       "    }\n",
       "</style>\n",
       "<table border=\"1\" class=\"dataframe\">\n",
       "  <thead>\n",
       "    <tr style=\"text-align: right;\">\n",
       "      <th></th>\n",
       "      <th>0</th>\n",
       "    </tr>\n",
       "  </thead>\n",
       "  <tbody>\n",
       "    <tr>\n",
       "      <th>count</th>\n",
       "      <td>891221.000000</td>\n",
       "    </tr>\n",
       "    <tr>\n",
       "      <th>mean</th>\n",
       "      <td>5.649894</td>\n",
       "    </tr>\n",
       "    <tr>\n",
       "      <th>std</th>\n",
       "      <td>13.234687</td>\n",
       "    </tr>\n",
       "    <tr>\n",
       "      <th>min</th>\n",
       "      <td>0.000000</td>\n",
       "    </tr>\n",
       "    <tr>\n",
       "      <th>25%</th>\n",
       "      <td>0.000000</td>\n",
       "    </tr>\n",
       "    <tr>\n",
       "      <th>50%</th>\n",
       "      <td>0.000000</td>\n",
       "    </tr>\n",
       "    <tr>\n",
       "      <th>75%</th>\n",
       "      <td>3.000000</td>\n",
       "    </tr>\n",
       "    <tr>\n",
       "      <th>max</th>\n",
       "      <td>49.000000</td>\n",
       "    </tr>\n",
       "  </tbody>\n",
       "</table>\n",
       "</div>"
      ],
      "text/plain": [
       "                   0\n",
       "count  891221.000000\n",
       "mean        5.649894\n",
       "std        13.234687\n",
       "min         0.000000\n",
       "25%         0.000000\n",
       "50%         0.000000\n",
       "75%         3.000000\n",
       "max        49.000000"
      ]
     },
     "execution_count": 13,
     "metadata": {},
     "output_type": "execute_result"
    }
   ],
   "source": [
    "#getting basic info regarding missing values per column to later set the threshold\n",
    "pd.DataFrame(missing_rows).describe()"
   ]
  },
  {
   "cell_type": "code",
   "execution_count": 14,
   "metadata": {},
   "outputs": [
    {
     "name": "stdout",
     "output_type": "stream",
     "text": [
      "[0, 3, 11, 12, 13]\n",
      "Above threshold list's length is 171597\n",
      "Below threshold list's length is 719624\n"
     ]
    }
   ],
   "source": [
    "# Write code to divide the data into two subsets based on the number of missing\n",
    "# values in each row.\n",
    "#Setting the threshold\n",
    "threshold= 5\n",
    "#Getting indexes of rows where missing values are above and below the threshold\n",
    "indexes_above = np.argwhere(missing_rows>threshold)\n",
    "list_above = []\n",
    "list_below = []\n",
    "indexes_below = np.argwhere(missing_rows<=threshold)\n",
    "#converting arrays into lists for later indexing\n",
    "for element in indexes_above:\n",
    "    list_above.append(int(element))\n",
    "for element in indexes_below:\n",
    "    list_below.append(int(element))\n",
    "print(list_above[0:5])\n",
    "#indexing to obtain the subsets data frames\n",
    "azdias_above = azdias.iloc[list_above]\n",
    "azdias_below = azdias.iloc[list_below]\n",
    "print('Above threshold list\\'s length is {}'.format(len(list_above)))\n",
    "print('Below threshold list\\'s length is {}'.format(len(list_below)))"
   ]
  },
  {
   "cell_type": "code",
   "execution_count": 15,
   "metadata": {},
   "outputs": [
    {
     "data": {
      "text/plain": [
       "(719624, 79)"
      ]
     },
     "execution_count": 15,
     "metadata": {},
     "output_type": "execute_result"
    }
   ],
   "source": [
    "azdias_below.shape"
   ]
  },
  {
   "cell_type": "code",
   "execution_count": 16,
   "metadata": {},
   "outputs": [],
   "source": [
    "# Compare the distribution of values for at least five columns where there are\n",
    "# no or few missing values, between the two subsets.\n",
    "def column_comparator(subset1, subset2, column_name):\n",
    "    print('Means are {} and {} for the first and second sets respectively'.format(subset1[column_name].mean(),subset2[column_name].mean()))\n",
    "    print('Standard deviations are {} and {} for the first and second sets respectively'.format(subset1[column_name].std(),subset2[column_name].std()))\n"
   ]
  },
  {
   "cell_type": "code",
   "execution_count": 17,
   "metadata": {},
   "outputs": [
    {
     "name": "stdout",
     "output_type": "stream",
     "text": [
      "['SEMIO_DOM', 'SEMIO_KAEM', 'SEMIO_PFLICHT', 'SEMIO_TRADV', 'ZABEOTYP']\n"
     ]
    }
   ],
   "source": [
    "#taking the names of the columns with the least missing values\n",
    "columns_to_compare = missing_per_column[-5:]\n",
    "columns_names = list(columns_to_compare.index)\n",
    "print(columns_names)"
   ]
  },
  {
   "cell_type": "code",
   "execution_count": 18,
   "metadata": {},
   "outputs": [
    {
     "name": "stdout",
     "output_type": "stream",
     "text": [
      "Means are 4.580493424343824 and 5.032640430776762 for the first and second sets respectively\n",
      "Standard deviations are 1.8343194017603477 and 1.5721944119010556 for the first and second sets respectively\n",
      "Means are 4.281715173479483 and 5.1298041341049085 for the first and second sets respectively\n",
      "Standard deviations are 1.8853784133540306 and 1.5277199337501146 for the first and second sets respectively\n",
      "Means are 4.148345524885218 and 4.707862025559887 for the first and second sets respectively\n",
      "Standard deviations are 1.8903261831819176 and 1.017645214085361 for the first and second sets respectively\n",
      "Means are 3.7486340088712993 and 3.2975634772169675 for the first and second sets respectively\n",
      "Standard deviations are 1.771439575654691 and 1.3493899050981155 for the first and second sets respectively\n",
      "Means are 3.4009315976120864 and 3.201005845090532 for the first and second sets respectively\n",
      "Standard deviations are 1.4104447693328312 and 1.0622891131006749 for the first and second sets respectively\n"
     ]
    }
   ],
   "source": [
    "for name in columns_names:\n",
    "    column_comparator(azdias_below,azdias_above, name)"
   ]
  },
  {
   "cell_type": "markdown",
   "metadata": {},
   "source": [
    "#### Discussion 1.1.3: Assess Missing Data in Each Row\n",
    "\n",
    "Mean values in the variables assessed for each subset do not present rellative differences above 20%, so the datasets can be expected to be similar"
   ]
  },
  {
   "cell_type": "markdown",
   "metadata": {},
   "source": [
    "### Step 1.2: Select and Re-Encode Features\n",
    "\n",
    "Checking for missing data isn't the only way in which you can prepare a dataset for analysis. Since the unsupervised learning techniques to be used will only work on data that is encoded numerically, you need to make a few encoding changes or additional assumptions to be able to make progress. In addition, while almost all of the values in the dataset are encoded using numbers, not all of them represent numeric values. Check the third column of the feature summary (`feat_info`) for a summary of types of measurement.\n",
    "- For numeric and interval data, these features can be kept without changes.\n",
    "- Most of the variables in the dataset are ordinal in nature. While ordinal values may technically be non-linear in spacing, make the simplifying assumption that the ordinal variables can be treated as being interval in nature (that is, kept without any changes).\n",
    "- Special handling may be necessary for the remaining two variable types: categorical, and 'mixed'.\n",
    "\n",
    "In the first two parts of this sub-step, you will perform an investigation of the categorical and mixed-type features and make a decision on each of them, whether you will keep, drop, or re-encode each. Then, in the last part, you will create a new data frame with only the selected and engineered columns.\n",
    "\n",
    "Data wrangling is often the trickiest part of the data analysis process, and there's a lot of it to be done here. But stick with it: once you're done with this step, you'll be ready to get to the machine learning parts of the project!"
   ]
  },
  {
   "cell_type": "code",
   "execution_count": 19,
   "metadata": {},
   "outputs": [
    {
     "data": {
      "text/plain": [
       "ordinal        49\n",
       "categorical    21\n",
       "numeric         7\n",
       "mixed           7\n",
       "interval        1\n",
       "Name: type, dtype: int64"
      ]
     },
     "execution_count": 19,
     "metadata": {},
     "output_type": "execute_result"
    }
   ],
   "source": [
    "# How many features are there of each data type?\n",
    "feat_info.iloc[:,2].value_counts()"
   ]
  },
  {
   "cell_type": "markdown",
   "metadata": {},
   "source": [
    "#### Step 1.2.1: Re-Encode Categorical Features\n",
    "\n",
    "For categorical data, you would ordinarily need to encode the levels as dummy variables. Depending on the number of categories, perform one of the following:\n",
    "- For binary (two-level) categoricals that take numeric values, you can keep them without needing to do anything.\n",
    "- There is one binary variable that takes on non-numeric values. For this one, you need to re-encode the values as numbers or create a dummy variable.\n",
    "- For multi-level categoricals (three or more values), you can choose to encode the values using multiple dummy variables (e.g. via [OneHotEncoder](http://scikit-learn.org/stable/modules/generated/sklearn.preprocessing.OneHotEncoder.html)), or (to keep things straightforward) just drop them from the analysis. As always, document your choices in the Discussion section."
   ]
  },
  {
   "cell_type": "code",
   "execution_count": 20,
   "metadata": {},
   "outputs": [
    {
     "name": "stdout",
     "output_type": "stream",
     "text": [
      "['CJT_GESAMTTYP', 'FINANZTYP', 'GFK_URLAUBERTYP', 'LP_FAMILIE_FEIN', 'LP_FAMILIE_GROB', 'LP_STATUS_FEIN', 'LP_STATUS_GROB', 'NATIONALITAET_KZ', 'SHOPPER_TYP', 'ZABEOTYP', 'GEBAEUDETYP', 'CAMEO_DEUG_2015', 'CAMEO_DEU_2015']\n"
     ]
    }
   ],
   "source": [
    "# Assess categorical variables: which are binary, which are multi-level, and\n",
    "# which one needs to be re-encoded?\n",
    "#Seleting features names for categorical feaures\n",
    "categorical_feat = feat_info[feat_info['type'] == 'categorical']['attribute']\n",
    "categorical_binary = []\n",
    "categorical_multilevel = []\n",
    "for variable in categorical_feat:\n",
    "    # taking out column names already discarded\n",
    "    if variable not in outliers_names:\n",
    "        pos_values = azdias_below[variable].value_counts()\n",
    "        #assesing the number of possible values for each categorical value to later append it to a list of binary or\n",
    "        #multilevel variables\n",
    "        if len(pos_values) == 2:\n",
    "            categorical_binary.append(variable)\n",
    "        else:\n",
    "            categorical_multilevel.append(variable)\n",
    "        \n",
    "print(categorical_multilevel)        \n",
    "\n"
   ]
  },
  {
   "cell_type": "code",
   "execution_count": 21,
   "metadata": {},
   "outputs": [
    {
     "name": "stdout",
     "output_type": "stream",
     "text": [
      "2    371652\n",
      "1    347972\n",
      "Name: ANREDE_KZ, dtype: int64\n",
      "0    557581\n",
      "1    162043\n",
      "Name: GREEN_AVANTGARDE, dtype: int64\n",
      "0.0    713594\n",
      "1.0      6030\n",
      "Name: SOHO_KZ, dtype: int64\n",
      "2.0    373057\n",
      "1.0    331757\n",
      "Name: VERS_TYP, dtype: int64\n",
      "W    564460\n",
      "O    155164\n",
      "Name: OST_WEST_KZ, dtype: int64\n"
     ]
    }
   ],
   "source": [
    "#finding the binary variable with no numeric variable to encode it using dummy_variables\n",
    "for variable in categorical_binary:\n",
    "    print(azdias_below[variable].value_counts())"
   ]
  },
  {
   "cell_type": "markdown",
   "metadata": {},
   "source": [
    "As it can be seen, the non numerical binary variable is the column 'OST_WEST_KZ'. Let's proceed to encode it then"
   ]
  },
  {
   "cell_type": "code",
   "execution_count": 22,
   "metadata": {},
   "outputs": [
    {
     "name": "stderr",
     "output_type": "stream",
     "text": [
      "/opt/conda/lib/python3.6/site-packages/pandas/core/frame.py:3697: SettingWithCopyWarning: \n",
      "A value is trying to be set on a copy of a slice from a DataFrame\n",
      "\n",
      "See the caveats in the documentation: http://pandas.pydata.org/pandas-docs/stable/indexing.html#indexing-view-versus-copy\n",
      "  errors=errors)\n"
     ]
    },
    {
     "name": "stdout",
     "output_type": "stream",
     "text": [
      "<class 'pandas.core.frame.DataFrame'>\n",
      "Int64Index: 719624 entries, 1 to 891220\n",
      "Data columns (total 66 columns):\n",
      "ALTERSKATEGORIE_GROB     718093 non-null float64\n",
      "ANREDE_KZ                719624 non-null int64\n",
      "FINANZ_MINIMALIST        719624 non-null int64\n",
      "FINANZ_SPARER            719624 non-null int64\n",
      "FINANZ_VORSORGER         719624 non-null int64\n",
      "FINANZ_ANLEGER           719624 non-null int64\n",
      "FINANZ_UNAUFFAELLIGER    719624 non-null int64\n",
      "FINANZ_HAUSBAUER         719624 non-null int64\n",
      "GREEN_AVANTGARDE         719624 non-null int64\n",
      "HEALTH_TYP               704814 non-null float64\n",
      "LP_LEBENSPHASE_FEIN      699921 non-null float64\n",
      "LP_LEBENSPHASE_GROB      700048 non-null float64\n",
      "PRAEGENDE_JUGENDJAHRE    712260 non-null float64\n",
      "RETOURTYP_BK_S           719624 non-null float64\n",
      "SEMIO_SOZ                719624 non-null int64\n",
      "SEMIO_FAM                719624 non-null int64\n",
      "SEMIO_REL                719624 non-null int64\n",
      "SEMIO_MAT                719624 non-null int64\n",
      "SEMIO_VERT               719624 non-null int64\n",
      "SEMIO_LUST               719624 non-null int64\n",
      "SEMIO_ERL                719624 non-null int64\n",
      "SEMIO_KULT               719624 non-null int64\n",
      "SEMIO_RAT                719624 non-null int64\n",
      "SEMIO_KRIT               719624 non-null int64\n",
      "SEMIO_DOM                719624 non-null int64\n",
      "SEMIO_KAEM               719624 non-null int64\n",
      "SEMIO_PFLICHT            719624 non-null int64\n",
      "SEMIO_TRADV              719624 non-null int64\n",
      "SOHO_KZ                  719624 non-null float64\n",
      "VERS_TYP                 704814 non-null float64\n",
      "ANZ_PERSONEN             719624 non-null float64\n",
      "ANZ_TITEL                719624 non-null float64\n",
      "HH_EINKOMMEN_SCORE       719624 non-null float64\n",
      "W_KEIT_KIND_HH           679842 non-null float64\n",
      "WOHNDAUER_2008           719624 non-null float64\n",
      "ANZ_HAUSHALTE_AKTIV      716979 non-null float64\n",
      "ANZ_HH_TITEL             719021 non-null float64\n",
      "KONSUMNAEHE              719580 non-null float64\n",
      "MIN_GEBAEUDEJAHR         719624 non-null float64\n",
      "OST_WEST_KZ              719624 non-null object\n",
      "WOHNLAGE                 719624 non-null float64\n",
      "CAMEO_INTL_2015          716567 non-null object\n",
      "KBA05_ANTG1              719624 non-null float64\n",
      "KBA05_ANTG2              719624 non-null float64\n",
      "KBA05_ANTG3              719624 non-null float64\n",
      "KBA05_ANTG4              719624 non-null float64\n",
      "KBA05_GBZ                719624 non-null float64\n",
      "BALLRAUM                 719182 non-null float64\n",
      "EWDICHTE                 719182 non-null float64\n",
      "INNENSTADT               719182 non-null float64\n",
      "GEBAEUDETYP_RASTER       719619 non-null float64\n",
      "KKK                      680882 non-null float64\n",
      "MOBI_REGIO               719624 non-null float64\n",
      "ONLINE_AFFINITAET        719624 non-null float64\n",
      "REGIOTYP                 680882 non-null float64\n",
      "KBA13_ANZAHL_PKW         718982 non-null float64\n",
      "PLZ8_ANTG1               719624 non-null float64\n",
      "PLZ8_ANTG2               719624 non-null float64\n",
      "PLZ8_ANTG3               719624 non-null float64\n",
      "PLZ8_ANTG4               719624 non-null float64\n",
      "PLZ8_BAUMAX              719624 non-null float64\n",
      "PLZ8_HHZ                 719624 non-null float64\n",
      "PLZ8_GBZ                 719624 non-null float64\n",
      "ARBEIT                   716017 non-null float64\n",
      "ORTSGR_KLS9              716093 non-null float64\n",
      "RELAT_AB                 716017 non-null float64\n",
      "dtypes: float64(42), int64(22), object(2)\n",
      "memory usage: 367.8+ MB\n"
     ]
    }
   ],
   "source": [
    "#dropping categorical multilevel features\n",
    "azdias_below.drop(categorical_multilevel, axis = 1, inplace = True)\n",
    "azdias_below.info()"
   ]
  },
  {
   "cell_type": "code",
   "execution_count": 24,
   "metadata": {},
   "outputs": [
    {
     "name": "stderr",
     "output_type": "stream",
     "text": [
      "/opt/conda/lib/python3.6/site-packages/pandas/core/frame.py:3697: SettingWithCopyWarning: \n",
      "A value is trying to be set on a copy of a slice from a DataFrame\n",
      "\n",
      "See the caveats in the documentation: http://pandas.pydata.org/pandas-docs/stable/indexing.html#indexing-view-versus-copy\n",
      "  errors=errors)\n"
     ]
    }
   ],
   "source": [
    "# Re-encode categorical variable(s) to be kept in the analysis.\n",
    "# Getting dummies, then adding them to the mix, and dropping the old column\n",
    "dummies = pd.get_dummies(azdias_below['OST_WEST_KZ'], prefix = 'OST_WEST_KZ')\n",
    "azdias_below.drop('OST_WEST_KZ',axis =1, inplace = True)\n",
    "azdias_dummies = pd.concat([azdias_below, dummies], axis = 1, join = 'outer')\n"
   ]
  },
  {
   "cell_type": "code",
   "execution_count": 25,
   "metadata": {},
   "outputs": [
    {
     "name": "stdout",
     "output_type": "stream",
     "text": [
      "<class 'pandas.core.frame.DataFrame'>\n",
      "Int64Index: 719624 entries, 1 to 891220\n",
      "Data columns (total 67 columns):\n",
      "ALTERSKATEGORIE_GROB     718093 non-null float64\n",
      "ANREDE_KZ                719624 non-null int64\n",
      "FINANZ_MINIMALIST        719624 non-null int64\n",
      "FINANZ_SPARER            719624 non-null int64\n",
      "FINANZ_VORSORGER         719624 non-null int64\n",
      "FINANZ_ANLEGER           719624 non-null int64\n",
      "FINANZ_UNAUFFAELLIGER    719624 non-null int64\n",
      "FINANZ_HAUSBAUER         719624 non-null int64\n",
      "GREEN_AVANTGARDE         719624 non-null int64\n",
      "HEALTH_TYP               704814 non-null float64\n",
      "LP_LEBENSPHASE_FEIN      699921 non-null float64\n",
      "LP_LEBENSPHASE_GROB      700048 non-null float64\n",
      "PRAEGENDE_JUGENDJAHRE    712260 non-null float64\n",
      "RETOURTYP_BK_S           719624 non-null float64\n",
      "SEMIO_SOZ                719624 non-null int64\n",
      "SEMIO_FAM                719624 non-null int64\n",
      "SEMIO_REL                719624 non-null int64\n",
      "SEMIO_MAT                719624 non-null int64\n",
      "SEMIO_VERT               719624 non-null int64\n",
      "SEMIO_LUST               719624 non-null int64\n",
      "SEMIO_ERL                719624 non-null int64\n",
      "SEMIO_KULT               719624 non-null int64\n",
      "SEMIO_RAT                719624 non-null int64\n",
      "SEMIO_KRIT               719624 non-null int64\n",
      "SEMIO_DOM                719624 non-null int64\n",
      "SEMIO_KAEM               719624 non-null int64\n",
      "SEMIO_PFLICHT            719624 non-null int64\n",
      "SEMIO_TRADV              719624 non-null int64\n",
      "SOHO_KZ                  719624 non-null float64\n",
      "VERS_TYP                 704814 non-null float64\n",
      "ANZ_PERSONEN             719624 non-null float64\n",
      "ANZ_TITEL                719624 non-null float64\n",
      "HH_EINKOMMEN_SCORE       719624 non-null float64\n",
      "W_KEIT_KIND_HH           679842 non-null float64\n",
      "WOHNDAUER_2008           719624 non-null float64\n",
      "ANZ_HAUSHALTE_AKTIV      716979 non-null float64\n",
      "ANZ_HH_TITEL             719021 non-null float64\n",
      "KONSUMNAEHE              719580 non-null float64\n",
      "MIN_GEBAEUDEJAHR         719624 non-null float64\n",
      "WOHNLAGE                 719624 non-null float64\n",
      "CAMEO_INTL_2015          716567 non-null object\n",
      "KBA05_ANTG1              719624 non-null float64\n",
      "KBA05_ANTG2              719624 non-null float64\n",
      "KBA05_ANTG3              719624 non-null float64\n",
      "KBA05_ANTG4              719624 non-null float64\n",
      "KBA05_GBZ                719624 non-null float64\n",
      "BALLRAUM                 719182 non-null float64\n",
      "EWDICHTE                 719182 non-null float64\n",
      "INNENSTADT               719182 non-null float64\n",
      "GEBAEUDETYP_RASTER       719619 non-null float64\n",
      "KKK                      680882 non-null float64\n",
      "MOBI_REGIO               719624 non-null float64\n",
      "ONLINE_AFFINITAET        719624 non-null float64\n",
      "REGIOTYP                 680882 non-null float64\n",
      "KBA13_ANZAHL_PKW         718982 non-null float64\n",
      "PLZ8_ANTG1               719624 non-null float64\n",
      "PLZ8_ANTG2               719624 non-null float64\n",
      "PLZ8_ANTG3               719624 non-null float64\n",
      "PLZ8_ANTG4               719624 non-null float64\n",
      "PLZ8_BAUMAX              719624 non-null float64\n",
      "PLZ8_HHZ                 719624 non-null float64\n",
      "PLZ8_GBZ                 719624 non-null float64\n",
      "ARBEIT                   716017 non-null float64\n",
      "ORTSGR_KLS9              716093 non-null float64\n",
      "RELAT_AB                 716017 non-null float64\n",
      "OST_WEST_KZ_O            719624 non-null uint8\n",
      "OST_WEST_KZ_W            719624 non-null uint8\n",
      "dtypes: float64(42), int64(22), object(1), uint8(2)\n",
      "memory usage: 363.7+ MB\n"
     ]
    }
   ],
   "source": [
    "azdias_dummies.info()"
   ]
  },
  {
   "cell_type": "markdown",
   "metadata": {},
   "source": [
    "#### Discussion 1.2.1: Re-Encode Categorical Features\n",
    "\n",
    "There were 13 multi-level categorical features, which were dropped for the sake of simplicity. There were 5 binary categorical features"
   ]
  },
  {
   "cell_type": "markdown",
   "metadata": {},
   "source": [
    "#### Step 1.2.2: Engineer Mixed-Type Features\n",
    "\n",
    "There are a handful of features that are marked as \"mixed\" in the feature summary that require special treatment in order to be included in the analysis. There are two in particular that deserve attention; the handling of the rest are up to your own choices:\n",
    "- \"PRAEGENDE_JUGENDJAHRE\" combines information on three dimensions: generation by decade, movement (mainstream vs. avantgarde), and nation (east vs. west). While there aren't enough levels to disentangle east from west, you should create two new variables to capture the other two dimensions: an interval-type variable for decade, and a binary variable for movement.\n",
    "- \"CAMEO_INTL_2015\" combines information on two axes: wealth and life stage. Break up the two-digit codes by their 'tens'-place and 'ones'-place digits into two new ordinal variables (which, for the purposes of this project, is equivalent to just treating them as their raw numeric values).\n",
    "- If you decide to keep or engineer new features around the other mixed-type features, make sure you note your steps in the Discussion section.\n",
    "\n",
    "Be sure to check `Data_Dictionary.md` for the details needed to finish these tasks."
   ]
  },
  {
   "cell_type": "code",
   "execution_count": 26,
   "metadata": {},
   "outputs": [],
   "source": [
    "# Investigate \"PRAEGENDE_JUGENDJAHRE\" and engineer two new variables.\n",
    "#This variable will be split into two, one containing the decade of youth, named jugendjahre, which encodes the 40s as 1,\n",
    "#50s as 2, 60s as 3, 70s as 4, 80s as 5 and 90s as 6; and pragaende, which contains the political views, encoding 1 and 0s\n",
    "# for avantgarde and mainstream respectively\n",
    "\n",
    "#variables are converted to data frames and its columns are renamed so they can be added later to the main dataset free of \n",
    "#misunderstandings\n",
    "jugendjahre = pd.DataFrame(azdias_dummies['PRAEGENDE_JUGENDJAHRE'].apply(lambda x: 1 if x in [1,2] \\\n",
    "                                                                        else 2 if x in [3,4] \\\n",
    "                                                                        else 3 if x in [5,6,7] \\\n",
    "                                                                        else 4 if x in [8,9] \\\n",
    "                                                                        else 5 if x in [10,11,12,13] \\\n",
    "                                                                        else 6 if x in [14,15] \\\n",
    "                                                                        else x))\n",
    "jugendjahre = jugendjahre.rename(columns= {'PRAEGENDE_JUGENDJAHRE':'JUGENDJAHRE'})"
   ]
  },
  {
   "cell_type": "code",
   "execution_count": 27,
   "metadata": {},
   "outputs": [],
   "source": [
    "pragaende = pd.DataFrame(azdias_dummies['PRAEGENDE_JUGENDJAHRE'].apply(lambda x: 0 if x in [1,3,5,8,10,12,14] \\\n",
    "                                                                    else 1 if x in [2,4,6,7,9,11,13,15] \\\n",
    "                                                             else x ))\n",
    "pragaende = pragaende.rename(columns= {'PRAEGENDE_JUGENDJAHRE':'PRAEGENDE'})"
   ]
  },
  {
   "cell_type": "code",
   "execution_count": 28,
   "metadata": {},
   "outputs": [],
   "source": [
    "# Investigate \"CAMEO_INTL_2015\" and engineer two new variables.\n",
    "#This variables contains info regarding the wealth and the life stage of families. The variable will be split keeping in one \n",
    "# its first digit, which accounts for the wealth; and in the other the second digit, which stores the life stage.\n",
    "wealth_household =pd.DataFrame(azdias_dummies['CAMEO_INTL_2015'].apply(lambda x: x if x is np.nan else int(int(x)/10)))\n",
    "wealth_household = wealth_household.rename(columns = {'CAMEO_INTL_2015':'WEALTH_HOUSEHOLD'})"
   ]
  },
  {
   "cell_type": "code",
   "execution_count": 29,
   "metadata": {},
   "outputs": [],
   "source": [
    "stage_household = pd.DataFrame(azdias_dummies['CAMEO_INTL_2015'].apply(lambda x: x if x is np.nan else int(x)%10))\n",
    "stage_household = stage_household.rename(columns = {'CAMEO_INTL_2015':'STAGE_HOUSEHOLD'})"
   ]
  },
  {
   "cell_type": "code",
   "execution_count": 30,
   "metadata": {},
   "outputs": [],
   "source": [
    "#dropping the old, useless variables\n",
    "mixed = feat_info[feat_info['type'] == 'mixed']['attribute']\n",
    "for feature in mixed:\n",
    "    if feature not in outliers_names:\n",
    "        azdias_dummies = azdias_dummies.drop(feature, axis = 1)\n"
   ]
  },
  {
   "cell_type": "code",
   "execution_count": 31,
   "metadata": {},
   "outputs": [
    {
     "data": {
      "text/plain": [
       "(719624, 61)"
      ]
     },
     "execution_count": 31,
     "metadata": {},
     "output_type": "execute_result"
    }
   ],
   "source": [
    "azdias_dummies.shape"
   ]
  },
  {
   "cell_type": "markdown",
   "metadata": {},
   "source": [
    "#### Discussion 1.2.2: Engineer Mixed-Type Features\n",
    "\n",
    "The new features were created as explained in the above code. The rest of mixed variables which were not mentioned have been dropped."
   ]
  },
  {
   "cell_type": "markdown",
   "metadata": {},
   "source": [
    "#### Step 1.2.3: Complete Feature Selection\n",
    "\n",
    "In order to finish this step up, you need to make sure that your data frame now only has the columns that you want to keep. To summarize, the dataframe should consist of the following:\n",
    "- All numeric, interval, and ordinal type columns from the original dataset.\n",
    "- Binary categorical features (all numerically-encoded).\n",
    "- Engineered features from other multi-level categorical features and mixed features.\n",
    "\n",
    "Make sure that for any new columns that you have engineered, that you've excluded the original columns from the final dataset. Otherwise, their values will interfere with the analysis later on the project. For example, you should not keep \"PRAEGENDE_JUGENDJAHRE\", since its values won't be useful for the algorithm: only the values derived from it in the engineered features you created should be retained. As a reminder, your data should only be from **the subset with few or no missing values**."
   ]
  },
  {
   "cell_type": "code",
   "execution_count": 33,
   "metadata": {},
   "outputs": [],
   "source": [
    "# If there are other re-engineering tasks you need to perform, make sure you\n",
    "# take care of them here. (Dealing with missing data will come in step 2.1.)\n",
    "#All unnecessary columns were dropped earlier, so now there only should be concatenated the four new created variables\n",
    "azdias_def = pd.concat([azdias_dummies,jugendjahre,pragaende,wealth_household, stage_household], axis = 1, ignore_index = False)\n"
   ]
  },
  {
   "cell_type": "code",
   "execution_count": 34,
   "metadata": {},
   "outputs": [
    {
     "name": "stdout",
     "output_type": "stream",
     "text": [
      "<class 'pandas.core.frame.DataFrame'>\n",
      "Int64Index: 719624 entries, 1 to 891220\n",
      "Data columns (total 65 columns):\n",
      "ALTERSKATEGORIE_GROB     718093 non-null float64\n",
      "ANREDE_KZ                719624 non-null int64\n",
      "FINANZ_MINIMALIST        719624 non-null int64\n",
      "FINANZ_SPARER            719624 non-null int64\n",
      "FINANZ_VORSORGER         719624 non-null int64\n",
      "FINANZ_ANLEGER           719624 non-null int64\n",
      "FINANZ_UNAUFFAELLIGER    719624 non-null int64\n",
      "FINANZ_HAUSBAUER         719624 non-null int64\n",
      "GREEN_AVANTGARDE         719624 non-null int64\n",
      "HEALTH_TYP               704814 non-null float64\n",
      "RETOURTYP_BK_S           719624 non-null float64\n",
      "SEMIO_SOZ                719624 non-null int64\n",
      "SEMIO_FAM                719624 non-null int64\n",
      "SEMIO_REL                719624 non-null int64\n",
      "SEMIO_MAT                719624 non-null int64\n",
      "SEMIO_VERT               719624 non-null int64\n",
      "SEMIO_LUST               719624 non-null int64\n",
      "SEMIO_ERL                719624 non-null int64\n",
      "SEMIO_KULT               719624 non-null int64\n",
      "SEMIO_RAT                719624 non-null int64\n",
      "SEMIO_KRIT               719624 non-null int64\n",
      "SEMIO_DOM                719624 non-null int64\n",
      "SEMIO_KAEM               719624 non-null int64\n",
      "SEMIO_PFLICHT            719624 non-null int64\n",
      "SEMIO_TRADV              719624 non-null int64\n",
      "SOHO_KZ                  719624 non-null float64\n",
      "VERS_TYP                 704814 non-null float64\n",
      "ANZ_PERSONEN             719624 non-null float64\n",
      "ANZ_TITEL                719624 non-null float64\n",
      "HH_EINKOMMEN_SCORE       719624 non-null float64\n",
      "W_KEIT_KIND_HH           679842 non-null float64\n",
      "WOHNDAUER_2008           719624 non-null float64\n",
      "ANZ_HAUSHALTE_AKTIV      716979 non-null float64\n",
      "ANZ_HH_TITEL             719021 non-null float64\n",
      "KONSUMNAEHE              719580 non-null float64\n",
      "MIN_GEBAEUDEJAHR         719624 non-null float64\n",
      "KBA05_ANTG1              719624 non-null float64\n",
      "KBA05_ANTG2              719624 non-null float64\n",
      "KBA05_ANTG3              719624 non-null float64\n",
      "KBA05_ANTG4              719624 non-null float64\n",
      "KBA05_GBZ                719624 non-null float64\n",
      "BALLRAUM                 719182 non-null float64\n",
      "EWDICHTE                 719182 non-null float64\n",
      "INNENSTADT               719182 non-null float64\n",
      "GEBAEUDETYP_RASTER       719619 non-null float64\n",
      "KKK                      680882 non-null float64\n",
      "MOBI_REGIO               719624 non-null float64\n",
      "ONLINE_AFFINITAET        719624 non-null float64\n",
      "REGIOTYP                 680882 non-null float64\n",
      "KBA13_ANZAHL_PKW         718982 non-null float64\n",
      "PLZ8_ANTG1               719624 non-null float64\n",
      "PLZ8_ANTG2               719624 non-null float64\n",
      "PLZ8_ANTG3               719624 non-null float64\n",
      "PLZ8_ANTG4               719624 non-null float64\n",
      "PLZ8_HHZ                 719624 non-null float64\n",
      "PLZ8_GBZ                 719624 non-null float64\n",
      "ARBEIT                   716017 non-null float64\n",
      "ORTSGR_KLS9              716093 non-null float64\n",
      "RELAT_AB                 716017 non-null float64\n",
      "OST_WEST_KZ_O            719624 non-null uint8\n",
      "OST_WEST_KZ_W            719624 non-null uint8\n",
      "JUGENDJAHRE              712260 non-null float64\n",
      "PRAEGENDE                712260 non-null float64\n",
      "WEALTH_HOUSEHOLD         716567 non-null float64\n",
      "STAGE_HOUSEHOLD          716567 non-null float64\n",
      "dtypes: float64(41), int64(22), uint8(2)\n",
      "memory usage: 352.8 MB\n"
     ]
    }
   ],
   "source": [
    "# Do whatever you need to in order to ensure that the dataframe only contains\n",
    "# the columns that should be passed to the algorithm functions.\n",
    "azdias_def.info()\n"
   ]
  },
  {
   "cell_type": "markdown",
   "metadata": {},
   "source": [
    "### Step 1.3: Create a Cleaning Function\n",
    "\n",
    "Even though you've finished cleaning up the general population demographics data, it's important to look ahead to the future and realize that you'll need to perform the same cleaning steps on the customer demographics data. In this substep, complete the function below to execute the main feature selection, encoding, and re-engineering steps you performed above. Then, when it comes to looking at the customer data in Step 3, you can just run this function on that DataFrame to get the trimmed dataset in a single step."
   ]
  },
  {
   "cell_type": "code",
   "execution_count": 35,
   "metadata": {},
   "outputs": [],
   "source": [
    "def clean_data(df):\n",
    "    \"\"\"\n",
    "    Perform feature trimming, re-encoding, and engineering for demographics\n",
    "    data\n",
    "    \n",
    "    INPUT: Demographics DataFrame\n",
    "    OUTPUT: Trimmed and cleaned demographics DataFrame\n",
    "    \"\"\"\n",
    "  #following all steps performed on the azdias data base\n",
    "\n",
    "    # Put in code here to execute all main cleaning steps:\n",
    "    # convert missing value codes into NaNs, ...\n",
    "    missing_values = feat_info['missing_or_unknown']\n",
    "    missing_values = np.array(missing_values)\n",
    "    features= np.array(feat_info['attribute'])\n",
    "#Iterating through each variable\n",
    "    for i in range(len(missing_values)):\n",
    "    #Looking at  strings of length greater than 2 to avoid empty brackets\n",
    "        if len(missing_values[i])>2: \n",
    "        #Treatments of the strings, first removing the brackets and then splitting to yield a list\n",
    "            missing_values[i] = missing_values[i][1:-1]\n",
    "            missing_values[i] = missing_values[i].split(',')\n",
    "            for j in range(len(missing_values[i])):\n",
    "            #integer conversion for such values\n",
    "                if missing_values[i][j] not in ['X','XX']:\n",
    "                    missing_values[i][j] = int(missing_values[i][j])\n",
    "                df[features[i]][df[features[i]] == missing_values[i][j]] = np.nan     \n",
    "    print('Encoded values succesfully tuned!')\n",
    "\n",
    "    \n",
    "    # remove selected columns and rows, ...\n",
    "    df1 = df.drop(outliers_names,axis = 1, inplace = True)\n",
    "    missing_rows_df = df.isnull().sum(axis= 1)\n",
    "    threshold= 5\n",
    "    indexes_above_df = np.argwhere(missing_rows_df>threshold)\n",
    "    list_above_df = []\n",
    "    list_below_df = []\n",
    "    indexes_below_df = np.argwhere(missing_rows_df<=threshold)\n",
    "    for element in indexes_above_df:\n",
    "        list_above_df.append(int(element))\n",
    "    for element in indexes_below_df:\n",
    "        list_below_df.append(int(element))\n",
    "    print(list_above[0:5])\n",
    "    df_above = df.iloc[list_above_df]\n",
    "    df_below = df.iloc[list_below_df]\n",
    "    print('Above threshold list\\'s length is {}'.format(len(list_above_df)))\n",
    "    print('Below threshold list\\'s length is {}'.format(len(list_below_df)))\n",
    "    # select, re-encode, and engineer column values.\n",
    "    #Erasing multilevel variables as done previously\n",
    "    df_below.drop(categorical_multilevel, axis = 1, inplace = True)\n",
    "    dummies_df = pd.get_dummies(df_below['OST_WEST_KZ'], prefix = 'OST_WEST_KZ')\n",
    "    df_below.drop('OST_WEST_KZ',axis =1, inplace = True)\n",
    "    df_dummies = pd.concat([df_below, dummies_df], axis = 1, join = 'outer')\n",
    "    jugendjahre_df = pd.DataFrame(df_dummies['PRAEGENDE_JUGENDJAHRE'].apply(lambda x: 1 if x in [1,2] \\\n",
    "                                                                        else 2 if x in [3,4] \\\n",
    "                                                                        else 3 if x in [5,6,7] \\\n",
    "                                                                        else 4 if x in [8,9] \\\n",
    "                                                                        else 5 if x in [10,11,12,13] \\\n",
    "                                                                        else 6 if x in [14,15] \\\n",
    "                                                                        else x))\n",
    "    jugendjahre_df = jugendjahre_df.rename(columns= {'PRAEGENDE_JUGENDJAHRE':'JUGENDJAHRE'})\n",
    "    pragaende_df = pd.DataFrame(df_dummies['PRAEGENDE_JUGENDJAHRE'].apply(lambda x: 0 if x in [1,3,5,8,10,12,14] \\\n",
    "                                                                    else 1 if x in [2,4,6,7,9,11,13,15] \\\n",
    "                                                             else x ))\n",
    "    pragaende_df = pragaende_df.rename(columns= {'PRAEGENDE_JUGENDJAHRE':'PRAEGENDE'})\n",
    "    wealth_household_df =pd.DataFrame(df_dummies['CAMEO_INTL_2015'].apply(lambda x: x if x is np.nan else int(int(x)/10)))\n",
    "    wealth_household_df = wealth_household_df.rename(columns = {'CAMEO_INTL_2015':'WEALTH_HOUSEHOLD'})\n",
    "\n",
    "    stage_household_df = pd.DataFrame(df_dummies['CAMEO_INTL_2015'].apply(lambda x: x if x is np.nan else int(x)%10))\n",
    "    stage_household_df = stage_household_df.rename(columns = {'CAMEO_INTL_2015':'STAGE_HOUSEHOLD'})\n",
    "    # Return the cleaned dataframe.\n",
    "    mixed = feat_info[feat_info['type'] == 'mixed']['attribute']\n",
    "    for feature in mixed:\n",
    "        if feature not in outliers_names:\n",
    "            df_dummies = df_dummies.drop(feature, axis = 1)\n",
    "    \n",
    "    df_def = pd.concat([df_dummies,jugendjahre_df,pragaende_df,wealth_household_df, stage_household_df], axis = 1, ignore_index = False)\n",
    "    \n",
    "    return df_def"
   ]
  },
  {
   "cell_type": "markdown",
   "metadata": {},
   "source": [
    "## Step 2: Feature Transformation\n",
    "\n",
    "### Step 2.1: Apply Feature Scaling\n",
    "\n",
    "Before we apply dimensionality reduction techniques to the data, we need to perform feature scaling so that the principal component vectors are not influenced by the natural differences in scale for features. Starting from this part of the project, you'll want to keep an eye on the [API reference page for sklearn](http://scikit-learn.org/stable/modules/classes.html) to help you navigate to all of the classes and functions that you'll need. In this substep, you'll need to check the following:\n",
    "\n",
    "- sklearn requires that data not have missing values in order for its estimators to work properly. So, before applying the scaler to your data, make sure that you've cleaned the DataFrame of the remaining missing values. This can be as simple as just removing all data points with missing data, or applying an [Imputer](http://scikit-learn.org/stable/modules/generated/sklearn.preprocessing.Imputer.html) to replace all missing values. You might also try a more complicated procedure where you temporarily remove missing values in order to compute the scaling parameters before re-introducing those missing values and applying imputation. Think about how much missing data you have and what possible effects each approach might have on your analysis, and justify your decision in the discussion section below.\n",
    "- For the actual scaling function, a [StandardScaler](http://scikit-learn.org/stable/modules/generated/sklearn.preprocessing.StandardScaler.html) instance is suggested, scaling each feature to mean 0 and standard deviation 1.\n",
    "- For these classes, you can make use of the `.fit_transform()` method to both fit a procedure to the data as well as apply the transformation to the data at the same time. Don't forget to keep the fit sklearn objects handy, since you'll be applying them to the customer demographics data towards the end of the project."
   ]
  },
  {
   "cell_type": "code",
   "execution_count": 36,
   "metadata": {},
   "outputs": [],
   "source": [
    "# If you've not yet cleaned the dataset of all NaN values, then investigate and\n",
    "# do that now.\n",
    "from sklearn.preprocessing import StandardScaler,Imputer\n",
    "imputer = Imputer(strategy='most_frequent')\n",
    "azdias_input=imputer.fit_transform(azdias_def)\n",
    "\n"
   ]
  },
  {
   "cell_type": "code",
   "execution_count": 37,
   "metadata": {},
   "outputs": [],
   "source": [
    "# Apply feature scaling to the general population demographics data.\n",
    "scaler = StandardScaler()\n",
    "azdias_scaled = scaler.fit_transform(azdias_input)\n"
   ]
  },
  {
   "cell_type": "markdown",
   "metadata": {},
   "source": [
    "### Discussion 2.1: Apply Feature Scaling\n",
    "\n",
    "For the feature scaling part I opted to keep those rows with a number of missing values below the set threshold, and subtituting those values through the sklearn Imputer, using the most frequent method, given that we are dealing with discrete variables. The scaling of the variables was done as recommended using Standard scaling"
   ]
  },
  {
   "cell_type": "markdown",
   "metadata": {},
   "source": [
    "### Step 2.2: Perform Dimensionality Reduction\n",
    "\n",
    "On your scaled data, you are now ready to apply dimensionality reduction techniques.\n",
    "\n",
    "- Use sklearn's [PCA](http://scikit-learn.org/stable/modules/generated/sklearn.decomposition.PCA.html) class to apply principal component analysis on the data, thus finding the vectors of maximal variance in the data. To start, you should not set any parameters (so all components are computed) or set a number of components that is at least half the number of features (so there's enough features to see the general trend in variability).\n",
    "- Check out the ratio of variance explained by each principal component as well as the cumulative variance explained. Try plotting the cumulative or sequential values using matplotlib's [`plot()`](https://matplotlib.org/api/_as_gen/matplotlib.pyplot.plot.html) function. Based on what you find, select a value for the number of transformed features you'll retain for the clustering part of the project.\n",
    "- Once you've made a choice for the number of components to keep, make sure you re-fit a PCA instance to perform the decided-on transformation."
   ]
  },
  {
   "cell_type": "code",
   "execution_count": 38,
   "metadata": {},
   "outputs": [],
   "source": [
    "#Setting random seed for consistency in the results\n",
    "np.random.seed(123)\n",
    "# Apply PCA to the data.\n",
    "from sklearn.decomposition import PCA\n",
    "pca = PCA(n_components = 40)\n",
    "azdias_pca = pca.fit_transform(azdias_scaled)"
   ]
  },
  {
   "cell_type": "code",
   "execution_count": 39,
   "metadata": {},
   "outputs": [
    {
     "name": "stdout",
     "output_type": "stream",
     "text": [
      "0.940322995149\n"
     ]
    },
    {
     "data": {
      "image/png": "[encoded data removed]",
      "text/plain": [
       "<matplotlib.figure.Figure at 0x7fd8ab545978>"
      ]
     },
     "metadata": {
      "needs_background": "light"
     },
     "output_type": "display_data"
    }
   ],
   "source": [
    "# Investigate the variance accounted for by each principal component.\n",
    "# Dimension indexing\n",
    "dimensions= ['Dimension {}'.format(i) for i in range(1,len(pca.components_)+1)]\n",
    "\n",
    "# PCA components\n",
    "components = pd.DataFrame(np.round(pca.components_, 4), columns = pd.DataFrame(azdias_scaled).keys())\n",
    "components.index = dimensions\n",
    "\n",
    "# PCA explained variance\n",
    "num_components = len(pca.explained_variance_ratio_)\n",
    "ind = np.arange(num_components)\n",
    "vals = pca.explained_variance_ratio_\n",
    " \n",
    "plt.figure(figsize=(10, 6))\n",
    "ax = plt.subplot(111)\n",
    "cumvals = np.cumsum(vals)\n",
    "ax.bar(ind, vals)\n",
    "ax.plot(ind, cumvals)\n",
    "for i in range(num_components):\n",
    "        ax.annotate(r\"%s%%\" % ((str(vals[i]*100)[:4])), (ind[i]+0.2, vals[i]), va=\"bottom\", ha=\"center\", fontsize=12)\n",
    " \n",
    "ax.xaxis.set_tick_params(width=0)\n",
    "ax.yaxis.set_tick_params(width=2, length=12)\n",
    " \n",
    "ax.set_xlabel(\"Principal Component\")\n",
    "ax.set_ylabel(\"Variance Explained (%)\")\n",
    "plt.title('Explained Variance Per Principal Component')\n",
    "print(cumvals[-1])"
   ]
  },
  {
   "cell_type": "code",
   "execution_count": 40,
   "metadata": {},
   "outputs": [],
   "source": [
    "# Re-apply PCA to the data while selecting for number of components to retain.\n",
    "pca = PCA(n_components = 35)\n",
    "azdias_pca = pca.fit_transform(azdias_scaled)\n",
    "variance = sum(pca.explained_variance_ratio_)"
   ]
  },
  {
   "cell_type": "code",
   "execution_count": 41,
   "metadata": {},
   "outputs": [
    {
     "name": "stdout",
     "output_type": "stream",
     "text": [
      "0.915061551437\n"
     ]
    }
   ],
   "source": [
    "print(variance)"
   ]
  },
  {
   "cell_type": "markdown",
   "metadata": {},
   "source": [
    "### Discussion 2.2: Perform Dimensionality Reduction\n",
    "\n",
    "For the next step of the analysis 35 principal components were kept since the curve really starts to flatten out at this point and explained variance is well over 90%  "
   ]
  },
  {
   "cell_type": "markdown",
   "metadata": {},
   "source": [
    "### Step 2.3: Interpret Principal Components\n",
    "\n",
    "Now that we have our transformed principal components, it's a nice idea to check out the weight of each variable on the first few components to see if they can be interpreted in some fashion.\n",
    "\n",
    "As a reminder, each principal component is a unit vector that points in the direction of highest variance (after accounting for the variance captured by earlier principal components). The further a weight is from zero, the more the principal component is in the direction of the corresponding feature. If two features have large weights of the same sign (both positive or both negative), then increases in one tend expect to be associated with increases in the other. To contrast, features with different signs can be expected to show a negative correlation: increases in one variable should result in a decrease in the other.\n",
    "\n",
    "- To investigate the features, you should map each weight to their corresponding feature name, then sort the features according to weight. The most interesting features for each principal component, then, will be those at the beginning and end of the sorted list. Use the data dictionary document to help you understand these most prominent features, their relationships, and what a positive or negative value on the principal component might indicate.\n",
    "- You should investigate and interpret feature associations from the first three principal components in this substep. To help facilitate this, you should write a function that you can call at any time to print the sorted list of feature weights, for the *i*-th principal component. This might come in handy in the next step of the project, when you interpret the tendencies of the discovered clusters."
   ]
  },
  {
   "cell_type": "code",
   "execution_count": 51,
   "metadata": {},
   "outputs": [],
   "source": [
    "# Map weights for the first principal component to corresponding feature names\n",
    "# and then print the linked values, sorted by weight.\n",
    "# HINT: Try defining a function here or in a new cell that you can reuse in the\n",
    "# other cells.\n",
    "def PCA_weights(pca,component,dataset):\n",
    "    components = pd.DataFrame(pca.components_)\n",
    "    components.columns = dataset.columns\n",
    "    comp_weights_sorted = components.iloc[component-1].sort_values(ascending=False)\n",
    "    print('The top three positive features are:\\n',comp_weights_sorted[:3])\n",
    "    print('The top three negative features are:\\n',comp_weights_sorted[-3:])"
   ]
  },
  {
   "cell_type": "code",
   "execution_count": 52,
   "metadata": {},
   "outputs": [
    {
     "name": "stdout",
     "output_type": "stream",
     "text": [
      "The top three positive features are:\n",
      " PLZ8_ANTG3          0.223898\n",
      "PLZ8_ANTG4          0.217445\n",
      "WEALTH_HOUSEHOLD    0.204399\n",
      "Name: 0, dtype: float64\n",
      "The top three negative features are:\n",
      " PLZ8_ANTG1    -0.224958\n",
      "KBA05_ANTG1   -0.225525\n",
      "MOBI_REGIO    -0.241479\n",
      "Name: 0, dtype: float64\n"
     ]
    }
   ],
   "source": [
    "PCA_weights(pca,1,azdias_def)"
   ]
  },
  {
   "cell_type": "code",
   "execution_count": 53,
   "metadata": {},
   "outputs": [
    {
     "name": "stdout",
     "output_type": "stream",
     "text": [
      "The top three positive features are:\n",
      " ALTERSKATEGORIE_GROB    0.255605\n",
      "SEMIO_ERL               0.230250\n",
      "FINANZ_VORSORGER        0.227106\n",
      "Name: 1, dtype: float64\n",
      "The top three negative features are:\n",
      " FINANZ_SPARER   -0.233938\n",
      "JUGENDJAHRE     -0.240390\n",
      "SEMIO_REL       -0.257583\n",
      "Name: 1, dtype: float64\n"
     ]
    }
   ],
   "source": [
    "# Map weights for the second principal component to corresponding feature names\n",
    "# and then print the linked values, sorted by weight.\n",
    "PCA_weights(pca,2,azdias_def)\n"
   ]
  },
  {
   "cell_type": "code",
   "execution_count": 54,
   "metadata": {},
   "outputs": [
    {
     "name": "stdout",
     "output_type": "stream",
     "text": [
      "The top three positive features are:\n",
      " SEMIO_VERT    0.348261\n",
      "SEMIO_SOZ     0.263724\n",
      "SEMIO_FAM     0.250600\n",
      "Name: 2, dtype: float64\n",
      "The top three negative features are:\n",
      " SEMIO_DOM    -0.314045\n",
      "SEMIO_KAEM   -0.338116\n",
      "ANREDE_KZ    -0.368890\n",
      "Name: 2, dtype: float64\n"
     ]
    }
   ],
   "source": [
    "# Map weights for the third principal component to corresponding feature names\n",
    "# and then print the linked values, sorted by weight.\n",
    "PCA_weights(pca,3,azdias_def)\n"
   ]
  },
  {
   "cell_type": "markdown",
   "metadata": {},
   "source": [
    "### Discussion 2.3: Interpret Principal Components\n",
    "\n",
    "-For the first principal component, the top positive features are PLZ8_ANTG4,PLZ8_ANTG3, which references the size of households and WEALTH_HOUSEHOLD, whixh measures its wealth; whereas the the most negative are MOBI_REGIO(measures mobility), PLZ8_ANTG1(1-2 family houses) and KBA_05(1-2 family houses in the microcell).\n",
    "\n",
    "Thus, the first principal component seems to capture the degree of house sharing/ househould size, favouring big sized household, and also the level of wealth of its individuals\n",
    "\n",
    "-For the second principal component, the three positive features are: ALTERSKATEGORIE_GROB, estimated age given on name; SEMIO_ERL, which relates to personal affinity towards events; and FINANZ_VORSORGER, which appears to measure finantial readiness. On the other hand, the most negative features are FINANZ_SPARER, which indicates money saving tendencies; JUGENJAHRE, which shows the person's youth years; and SEMIO REL, which measures religious affinity.\n",
    "\n",
    "Consequently, it can be inferred that the second principal component takes strongly into account the age and atittude of the indivual, specially towards money-based decisions\n",
    "\n",
    "-For the third principal component the top positive features are:\n",
    "\n",
    "SEMIO_VERT: Dreamful-minded\n",
    "SEMIO_SOZ: Social-minded\n",
    "SEMIO_FAMILY: Family-minded\n",
    "\n",
    "whereas the top negatives are:\n",
    "\n",
    "SEMIO_DOM: Dominant-minded\n",
    "SEMIO_KAEM: combative attitude\n",
    "ANREDE_KZ: Sex\n",
    "\n",
    "The third principal component seems to be strongly focused on personality, and its also influenced by gender"
   ]
  },
  {
   "cell_type": "markdown",
   "metadata": {},
   "source": [
    "## Step 3: Clustering\n",
    "\n",
    "### Step 3.1: Apply Clustering to General Population\n",
    "\n",
    "You've assessed and cleaned the demographics data, then scaled and transformed them. Now, it's time to see how the data clusters in the principal components space. In this substep, you will apply k-means clustering to the dataset and use the average within-cluster distances from each point to their assigned cluster's centroid to decide on a number of clusters to keep.\n",
    "\n",
    "- Use sklearn's [KMeans](http://scikit-learn.org/stable/modules/generated/sklearn.cluster.KMeans.html#sklearn.cluster.KMeans) class to perform k-means clustering on the PCA-transformed data.\n",
    "- Then, compute the average difference from each point to its assigned cluster's center. **Hint**: The KMeans object's `.score()` method might be useful here, but note that in sklearn, scores tend to be defined so that larger is better. Try applying it to a small, toy dataset, or use an internet search to help your understanding.\n",
    "- Perform the above two steps for a number of different cluster counts. You can then see how the average distance decreases with an increasing number of clusters. However, each additional cluster provides a smaller net benefit. Use this fact to select a final number of clusters in which to group the data. **Warning**: because of the large size of the dataset, it can take a long time for the algorithm to resolve. The more clusters to fit, the longer the algorithm will take. You should test for cluster counts through at least 10 clusters to get the full picture, but you shouldn't need to test for a number of clusters above about 30.\n",
    "- Once you've selected a final number of clusters to use, re-fit a KMeans instance to perform the clustering operation. Make sure that you also obtain the cluster assignments for the general demographics data, since you'll be using them in the final Step 3.3."
   ]
  },
  {
   "cell_type": "code",
   "execution_count": 55,
   "metadata": {},
   "outputs": [],
   "source": [
    "from sklearn.cluster import KMeans\n",
    "scores = []\n",
    "# Over a number of different cluster counts...\n",
    "for clusters in [2,3,5,7,9,10,11,12,13,14]:\n",
    "\n",
    "    # run k-means clustering on the data and...\n",
    "    kmeans = KMeans(n_clusters = clusters)\n",
    "    model = kmeans.fit(azdias_pca)\n",
    "    \n",
    "    # compute the average within-cluster distances.\n",
    "    score = np.abs(model.score(azdias_pca))\n",
    "    scores.append(score)"
   ]
  },
  {
   "cell_type": "code",
   "execution_count": 56,
   "metadata": {},
   "outputs": [
    {
     "data": {
      "text/plain": [
       "[36875467.263833568,\n",
       " 33719479.742968217,\n",
       " 30595607.428278651,\n",
       " 28351673.652420968,\n",
       " 27019911.724820316,\n",
       " 26485297.75167276,\n",
       " 26088945.590724707,\n",
       " 25509431.442103699,\n",
       " 25094300.265772764,\n",
       " 24816094.595862567]"
      ]
     },
     "execution_count": 56,
     "metadata": {},
     "output_type": "execute_result"
    }
   ],
   "source": [
    "scores"
   ]
  },
  {
   "cell_type": "code",
   "execution_count": 57,
   "metadata": {},
   "outputs": [
    {
     "data": {
      "text/plain": [
       "Text(0.5,1,'Number of centers vs average cluster distance')"
      ]
     },
     "execution_count": 57,
     "metadata": {},
     "output_type": "execute_result"
    },
    {
     "data": {
      "image/png": "[encoded data removed]",
      "text/plain": [
       "<matplotlib.figure.Figure at 0x7fd8ab2627b8>"
      ]
     },
     "metadata": {
      "needs_background": "light"
     },
     "output_type": "display_data"
    }
   ],
   "source": [
    "# Investigate the change in within-cluster distance across number of clusters.\n",
    "# HINT: Use matplotlib's plot function to visualize this relationship.\n",
    "\n",
    "plt.plot([2,3,5,7,9,10,11,12,13,14],scores, marker ='o', color = 'r')\n",
    "plt.xlabel('Number of centers')\n",
    "plt.ylabel('Distance to cluster center')\n",
    "plt.title('Number of centers vs average cluster distance')"
   ]
  },
  {
   "cell_type": "code",
   "execution_count": 58,
   "metadata": {},
   "outputs": [],
   "source": [
    "# Re-fit the k-means model with the selected number of clusters and obtain\n",
    "# cluster predictions for the general population demographics data.\n",
    "from sklearn.cluster import KMeans\n",
    "kmeans_10 = KMeans(n_clusters = 10)\n",
    "model = kmeans_10.fit(azdias_pca)"
   ]
  },
  {
   "cell_type": "code",
   "execution_count": 61,
   "metadata": {},
   "outputs": [
    {
     "data": {
      "text/plain": [
       "KMeans(algorithm='auto', copy_x=True, init='k-means++', max_iter=300,\n",
       "    n_clusters=10, n_init=10, n_jobs=1, precompute_distances='auto',\n",
       "    random_state=None, tol=0.0001, verbose=0)"
      ]
     },
     "execution_count": 61,
     "metadata": {},
     "output_type": "execute_result"
    }
   ],
   "source": [
    "model"
   ]
  },
  {
   "cell_type": "code",
   "execution_count": 62,
   "metadata": {},
   "outputs": [],
   "source": [
    "genpop_pred = model.predict(azdias_pca)"
   ]
  },
  {
   "cell_type": "code",
   "execution_count": 63,
   "metadata": {},
   "outputs": [
    {
     "data": {
      "text/plain": [
       "(719624,)"
      ]
     },
     "execution_count": 63,
     "metadata": {},
     "output_type": "execute_result"
    }
   ],
   "source": [
    "genpop_pred.shape"
   ]
  },
  {
   "cell_type": "markdown",
   "metadata": {},
   "source": [
    "### Discussion 3.1: Apply Clustering to General Population\n",
    "\n",
    "I found that the average distance to the the cluster center starts to plateau around 8 clusters, and beyond 10 clusters no significant drops occur"
   ]
  },
  {
   "cell_type": "markdown",
   "metadata": {},
   "source": [
    "### Step 3.2: Apply All Steps to the Customer Data\n",
    "\n",
    "Now that you have clusters and cluster centers for the general population, it's time to see how the customer data maps on to those clusters. Take care to not confuse this for re-fitting all of the models to the customer data. Instead, you're going to use the fits from the general population to clean, transform, and cluster the customer data. In the last step of the project, you will interpret how the general population fits apply to the customer data.\n",
    "\n",
    "- Don't forget when loading in the customers data, that it is semicolon (`;`) delimited.\n",
    "- Apply the same feature wrangling, selection, and engineering steps to the customer demographics using the `clean_data()` function you created earlier. (You can assume that the customer demographics data has similar meaning behind missing data patterns as the general demographics data.)\n",
    "- Use the sklearn objects from the general demographics data, and apply their transformations to the customers data. That is, you should not be using a `.fit()` or `.fit_transform()` method to re-fit the old objects, nor should you be creating new sklearn objects! Carry the data through the feature scaling, PCA, and clustering steps, obtaining cluster assignments for all of the data in the customer demographics data."
   ]
  },
  {
   "cell_type": "code",
   "execution_count": 64,
   "metadata": {},
   "outputs": [],
   "source": [
    "# Load in the customer demographics data.\n",
    "customers = pd.read_csv('Udacity_CUSTOMERS_Subset.csv', delimiter = ';')"
   ]
  },
  {
   "cell_type": "code",
   "execution_count": 65,
   "metadata": {},
   "outputs": [
    {
     "name": "stderr",
     "output_type": "stream",
     "text": [
      "/opt/conda/lib/python3.6/site-packages/ipykernel_launcher.py:27: SettingWithCopyWarning: \n",
      "A value is trying to be set on a copy of a slice from a DataFrame\n",
      "\n",
      "See the caveats in the documentation: http://pandas.pydata.org/pandas-docs/stable/indexing.html#indexing-view-versus-copy\n"
     ]
    },
    {
     "name": "stdout",
     "output_type": "stream",
     "text": [
      "Encoded values succesfully tuned!\n",
      "[0, 3, 11, 12, 13]\n",
      "Above threshold list's length is 62663\n",
      "Below threshold list's length is 128989\n"
     ]
    },
    {
     "name": "stderr",
     "output_type": "stream",
     "text": [
      "/opt/conda/lib/python3.6/site-packages/pandas/core/frame.py:3697: SettingWithCopyWarning: \n",
      "A value is trying to be set on a copy of a slice from a DataFrame\n",
      "\n",
      "See the caveats in the documentation: http://pandas.pydata.org/pandas-docs/stable/indexing.html#indexing-view-versus-copy\n",
      "  errors=errors)\n"
     ]
    }
   ],
   "source": [
    "# Apply preprocessing, feature transformation, and clustering from the general\n",
    "# demographics onto the customer data, obtaining cluster predictions for the\n",
    "# customer demographics data.\n",
    "customers_cleaned = clean_data(customers)\n"
   ]
  },
  {
   "cell_type": "code",
   "execution_count": 66,
   "metadata": {},
   "outputs": [
    {
     "name": "stdout",
     "output_type": "stream",
     "text": [
      "<class 'pandas.core.frame.DataFrame'>\n",
      "Int64Index: 128989 entries, 0 to 191651\n",
      "Data columns (total 65 columns):\n",
      "ALTERSKATEGORIE_GROB     128820 non-null float64\n",
      "ANREDE_KZ                128989 non-null int64\n",
      "FINANZ_MINIMALIST        128989 non-null int64\n",
      "FINANZ_SPARER            128989 non-null int64\n",
      "FINANZ_VORSORGER         128989 non-null int64\n",
      "FINANZ_ANLEGER           128989 non-null int64\n",
      "FINANZ_UNAUFFAELLIGER    128989 non-null int64\n",
      "FINANZ_HAUSBAUER         128989 non-null int64\n",
      "GREEN_AVANTGARDE         128989 non-null int64\n",
      "HEALTH_TYP               127490 non-null float64\n",
      "RETOURTYP_BK_S           128989 non-null float64\n",
      "SEMIO_SOZ                128989 non-null int64\n",
      "SEMIO_FAM                128989 non-null int64\n",
      "SEMIO_REL                128989 non-null int64\n",
      "SEMIO_MAT                128989 non-null int64\n",
      "SEMIO_VERT               128989 non-null int64\n",
      "SEMIO_LUST               128989 non-null int64\n",
      "SEMIO_ERL                128989 non-null int64\n",
      "SEMIO_KULT               128989 non-null int64\n",
      "SEMIO_RAT                128989 non-null int64\n",
      "SEMIO_KRIT               128989 non-null int64\n",
      "SEMIO_DOM                128989 non-null int64\n",
      "SEMIO_KAEM               128989 non-null int64\n",
      "SEMIO_PFLICHT            128989 non-null int64\n",
      "SEMIO_TRADV              128989 non-null int64\n",
      "SOHO_KZ                  128989 non-null float64\n",
      "VERS_TYP                 127490 non-null float64\n",
      "ANZ_PERSONEN             128989 non-null float64\n",
      "ANZ_TITEL                128989 non-null float64\n",
      "HH_EINKOMMEN_SCORE       128989 non-null float64\n",
      "W_KEIT_KIND_HH           123827 non-null float64\n",
      "WOHNDAUER_2008           128989 non-null float64\n",
      "ANZ_HAUSHALTE_AKTIV      128644 non-null float64\n",
      "ANZ_HH_TITEL             128775 non-null float64\n",
      "KONSUMNAEHE              128984 non-null float64\n",
      "MIN_GEBAEUDEJAHR         128989 non-null float64\n",
      "KBA05_ANTG1              128989 non-null float64\n",
      "KBA05_ANTG2              128989 non-null float64\n",
      "KBA05_ANTG3              128989 non-null float64\n",
      "KBA05_ANTG4              128989 non-null float64\n",
      "KBA05_GBZ                128988 non-null float64\n",
      "BALLRAUM                 128966 non-null float64\n",
      "EWDICHTE                 128966 non-null float64\n",
      "INNENSTADT               128966 non-null float64\n",
      "GEBAEUDETYP_RASTER       128989 non-null float64\n",
      "KKK                      122704 non-null float64\n",
      "MOBI_REGIO               128989 non-null float64\n",
      "ONLINE_AFFINITAET        128989 non-null float64\n",
      "REGIOTYP                 122704 non-null float64\n",
      "KBA13_ANZAHL_PKW         128948 non-null float64\n",
      "PLZ8_ANTG1               128989 non-null float64\n",
      "PLZ8_ANTG2               128989 non-null float64\n",
      "PLZ8_ANTG3               128989 non-null float64\n",
      "PLZ8_ANTG4               128989 non-null float64\n",
      "PLZ8_HHZ                 128989 non-null float64\n",
      "PLZ8_GBZ                 128989 non-null float64\n",
      "ARBEIT                   128486 non-null float64\n",
      "ORTSGR_KLS9              128503 non-null float64\n",
      "RELAT_AB                 128486 non-null float64\n",
      "OST_WEST_KZ_O            128989 non-null uint8\n",
      "OST_WEST_KZ_W            128989 non-null uint8\n",
      "JUGENDJAHRE              128604 non-null float64\n",
      "PRAEGENDE                128604 non-null float64\n",
      "WEALTH_HOUSEHOLD         128796 non-null float64\n",
      "STAGE_HOUSEHOLD          128796 non-null float64\n",
      "dtypes: float64(41), int64(22), uint8(2)\n",
      "memory usage: 63.2 MB\n"
     ]
    }
   ],
   "source": [
    "customers_cleaned.info()"
   ]
  },
  {
   "cell_type": "code",
   "execution_count": 67,
   "metadata": {},
   "outputs": [],
   "source": [
    "customers_input= imputer.transform(customers_cleaned)\n",
    "customers_scaled = scaler.transform(customers_input)"
   ]
  },
  {
   "cell_type": "code",
   "execution_count": 68,
   "metadata": {},
   "outputs": [],
   "source": [
    "customers_pca = pca.fit_transform(customers_scaled)"
   ]
  },
  {
   "cell_type": "code",
   "execution_count": 69,
   "metadata": {},
   "outputs": [],
   "source": [
    "model_customers = kmeans_10.fit(customers_pca)\n",
    "customers_preds = model_customers.predict(customers_pca)"
   ]
  },
  {
   "cell_type": "markdown",
   "metadata": {},
   "source": [
    "### Step 3.3: Compare Customer Data to Demographics Data\n",
    "\n",
    "At this point, you have clustered data based on demographics of the general population of Germany, and seen how the customer data for a mail-order sales company maps onto those demographic clusters. In this final substep, you will compare the two cluster distributions to see where the strongest customer base for the company is.\n",
    "\n",
    "Consider the proportion of persons in each cluster for the general population, and the proportions for the customers. If we think the company's customer base to be universal, then the cluster assignment proportions should be fairly similar between the two. If there are only particular segments of the population that are interested in the company's products, then we should see a mismatch from one to the other. If there is a higher proportion of persons in a cluster for the customer data compared to the general population (e.g. 5% of persons are assigned to a cluster for the general population, but 15% of the customer data is closest to that cluster's centroid) then that suggests the people in that cluster to be a target audience for the company. On the other hand, the proportion of the data in a cluster being larger in the general population than the customer data (e.g. only 2% of customers closest to a population centroid that captures 6% of the data) suggests that group of persons to be outside of the target demographics.\n",
    "\n",
    "Take a look at the following points in this step:\n",
    "\n",
    "- Compute the proportion of data points in each cluster for the general population and the customer data. Visualizations will be useful here: both for the individual dataset proportions, but also to visualize the ratios in cluster representation between groups. Seaborn's [`countplot()`](https://seaborn.pydata.org/generated/seaborn.countplot.html) or [`barplot()`](https://seaborn.pydata.org/generated/seaborn.barplot.html) function could be handy.\n",
    "  - Recall the analysis you performed in step 1.1.3 of the project, where you separated out certain data points from the dataset if they had more than a specified threshold of missing values. If you found that this group was qualitatively different from the main bulk of the data, you should treat this as an additional data cluster in this analysis. Make sure that you account for the number of data points in this subset, for both the general population and customer datasets, when making your computations!\n",
    "- Which cluster or clusters are overrepresented in the customer dataset compared to the general population? Select at least one such cluster and infer what kind of people might be represented by that cluster. Use the principal component interpretations from step 2.3 or look at additional components to help you make this inference. Alternatively, you can use the `.inverse_transform()` method of the PCA and StandardScaler objects to transform centroids back to the original data space and interpret the retrieved values directly.\n",
    "- Perform a similar investigation for the underrepresented clusters. Which cluster or clusters are underrepresented in the customer dataset compared to the general population, and what kinds of people are typified by these clusters?"
   ]
  },
  {
   "cell_type": "code",
   "execution_count": 70,
   "metadata": {},
   "outputs": [
    {
     "name": "stderr",
     "output_type": "stream",
     "text": [
      "/opt/conda/lib/python3.6/site-packages/ipykernel_launcher.py:7: DeprecationWarning: `itemfreq` is deprecated!\n",
      "`itemfreq` is deprecated and will be removed in a future version. Use instead `np.unique(..., return_counts=True)`\n",
      "  import sys\n"
     ]
    }
   ],
   "source": [
    "# Compare the proportion of data in each cluster for the customer data to the\n",
    "# proportion of data in each cluster for the general population.\n",
    "\n",
    "#Creating DataFrames to store the relative frequency of each cluster group\n",
    "from scipy.stats import itemfreq\n",
    "pop_pred =pd.DataFrame(genpop_pred, columns = ['label'])\n",
    "frequency_pop = pd.DataFrame(itemfreq(pop_pred['label']), columns = ['label','freq'])\n",
    "frequency_pop['sample'] = 'pop'\n",
    "len_pop = len(pop_pred['label'])\n",
    "frequency_pop['freq'] = frequency_pop['freq']/len_pop"
   ]
  },
  {
   "cell_type": "code",
   "execution_count": 71,
   "metadata": {},
   "outputs": [
    {
     "data": {
      "text/html": [
       "<div>\n",
       "<style scoped>\n",
       "    .dataframe tbody tr th:only-of-type {\n",
       "        vertical-align: middle;\n",
       "    }\n",
       "\n",
       "    .dataframe tbody tr th {\n",
       "        vertical-align: top;\n",
       "    }\n",
       "\n",
       "    .dataframe thead th {\n",
       "        text-align: right;\n",
       "    }\n",
       "</style>\n",
       "<table border=\"1\" class=\"dataframe\">\n",
       "  <thead>\n",
       "    <tr style=\"text-align: right;\">\n",
       "      <th></th>\n",
       "      <th>label</th>\n",
       "      <th>freq</th>\n",
       "      <th>sample</th>\n",
       "    </tr>\n",
       "  </thead>\n",
       "  <tbody>\n",
       "    <tr>\n",
       "      <th>0</th>\n",
       "      <td>0</td>\n",
       "      <td>0.075320</td>\n",
       "      <td>pop</td>\n",
       "    </tr>\n",
       "    <tr>\n",
       "      <th>1</th>\n",
       "      <td>1</td>\n",
       "      <td>0.087090</td>\n",
       "      <td>pop</td>\n",
       "    </tr>\n",
       "    <tr>\n",
       "      <th>2</th>\n",
       "      <td>2</td>\n",
       "      <td>0.097773</td>\n",
       "      <td>pop</td>\n",
       "    </tr>\n",
       "    <tr>\n",
       "      <th>3</th>\n",
       "      <td>3</td>\n",
       "      <td>0.078123</td>\n",
       "      <td>pop</td>\n",
       "    </tr>\n",
       "    <tr>\n",
       "      <th>4</th>\n",
       "      <td>4</td>\n",
       "      <td>0.100062</td>\n",
       "      <td>pop</td>\n",
       "    </tr>\n",
       "    <tr>\n",
       "      <th>5</th>\n",
       "      <td>5</td>\n",
       "      <td>0.132837</td>\n",
       "      <td>pop</td>\n",
       "    </tr>\n",
       "    <tr>\n",
       "      <th>6</th>\n",
       "      <td>6</td>\n",
       "      <td>0.128944</td>\n",
       "      <td>pop</td>\n",
       "    </tr>\n",
       "    <tr>\n",
       "      <th>7</th>\n",
       "      <td>7</td>\n",
       "      <td>0.076829</td>\n",
       "      <td>pop</td>\n",
       "    </tr>\n",
       "    <tr>\n",
       "      <th>8</th>\n",
       "      <td>8</td>\n",
       "      <td>0.113191</td>\n",
       "      <td>pop</td>\n",
       "    </tr>\n",
       "    <tr>\n",
       "      <th>9</th>\n",
       "      <td>9</td>\n",
       "      <td>0.109831</td>\n",
       "      <td>pop</td>\n",
       "    </tr>\n",
       "  </tbody>\n",
       "</table>\n",
       "</div>"
      ],
      "text/plain": [
       "   label      freq sample\n",
       "0      0  0.075320    pop\n",
       "1      1  0.087090    pop\n",
       "2      2  0.097773    pop\n",
       "3      3  0.078123    pop\n",
       "4      4  0.100062    pop\n",
       "5      5  0.132837    pop\n",
       "6      6  0.128944    pop\n",
       "7      7  0.076829    pop\n",
       "8      8  0.113191    pop\n",
       "9      9  0.109831    pop"
      ]
     },
     "execution_count": 71,
     "metadata": {},
     "output_type": "execute_result"
    }
   ],
   "source": [
    "frequency_pop"
   ]
  },
  {
   "cell_type": "code",
   "execution_count": 72,
   "metadata": {},
   "outputs": [
    {
     "name": "stderr",
     "output_type": "stream",
     "text": [
      "/opt/conda/lib/python3.6/site-packages/ipykernel_launcher.py:2: DeprecationWarning: `itemfreq` is deprecated!\n",
      "`itemfreq` is deprecated and will be removed in a future version. Use instead `np.unique(..., return_counts=True)`\n",
      "  \n"
     ]
    }
   ],
   "source": [
    "cust_pred =pd.DataFrame(customers_preds, columns = ['label'])\n",
    "frequency_cust = pd.DataFrame(itemfreq(cust_pred['label']), columns = ['label','freq'])\n",
    "frequency_cust['sample'] = 'cust'\n",
    "len_cust = len(cust_pred['label'])\n",
    "frequency_cust['freq'] = frequency_cust['freq']/len_cust"
   ]
  },
  {
   "cell_type": "code",
   "execution_count": 73,
   "metadata": {},
   "outputs": [
    {
     "data": {
      "text/html": [
       "<div>\n",
       "<style scoped>\n",
       "    .dataframe tbody tr th:only-of-type {\n",
       "        vertical-align: middle;\n",
       "    }\n",
       "\n",
       "    .dataframe tbody tr th {\n",
       "        vertical-align: top;\n",
       "    }\n",
       "\n",
       "    .dataframe thead th {\n",
       "        text-align: right;\n",
       "    }\n",
       "</style>\n",
       "<table border=\"1\" class=\"dataframe\">\n",
       "  <thead>\n",
       "    <tr style=\"text-align: right;\">\n",
       "      <th></th>\n",
       "      <th>label</th>\n",
       "      <th>freq</th>\n",
       "      <th>sample</th>\n",
       "    </tr>\n",
       "  </thead>\n",
       "  <tbody>\n",
       "    <tr>\n",
       "      <th>0</th>\n",
       "      <td>0</td>\n",
       "      <td>0.106342</td>\n",
       "      <td>cust</td>\n",
       "    </tr>\n",
       "    <tr>\n",
       "      <th>1</th>\n",
       "      <td>1</td>\n",
       "      <td>0.155951</td>\n",
       "      <td>cust</td>\n",
       "    </tr>\n",
       "    <tr>\n",
       "      <th>2</th>\n",
       "      <td>2</td>\n",
       "      <td>0.151455</td>\n",
       "      <td>cust</td>\n",
       "    </tr>\n",
       "    <tr>\n",
       "      <th>3</th>\n",
       "      <td>3</td>\n",
       "      <td>0.085116</td>\n",
       "      <td>cust</td>\n",
       "    </tr>\n",
       "    <tr>\n",
       "      <th>4</th>\n",
       "      <td>4</td>\n",
       "      <td>0.129135</td>\n",
       "      <td>cust</td>\n",
       "    </tr>\n",
       "    <tr>\n",
       "      <th>5</th>\n",
       "      <td>5</td>\n",
       "      <td>0.001620</td>\n",
       "      <td>cust</td>\n",
       "    </tr>\n",
       "    <tr>\n",
       "      <th>6</th>\n",
       "      <td>6</td>\n",
       "      <td>0.084379</td>\n",
       "      <td>cust</td>\n",
       "    </tr>\n",
       "    <tr>\n",
       "      <th>7</th>\n",
       "      <td>7</td>\n",
       "      <td>0.019319</td>\n",
       "      <td>cust</td>\n",
       "    </tr>\n",
       "    <tr>\n",
       "      <th>8</th>\n",
       "      <td>8</td>\n",
       "      <td>0.150579</td>\n",
       "      <td>cust</td>\n",
       "    </tr>\n",
       "    <tr>\n",
       "      <th>9</th>\n",
       "      <td>9</td>\n",
       "      <td>0.116103</td>\n",
       "      <td>cust</td>\n",
       "    </tr>\n",
       "  </tbody>\n",
       "</table>\n",
       "</div>"
      ],
      "text/plain": [
       "   label      freq sample\n",
       "0      0  0.106342   cust\n",
       "1      1  0.155951   cust\n",
       "2      2  0.151455   cust\n",
       "3      3  0.085116   cust\n",
       "4      4  0.129135   cust\n",
       "5      5  0.001620   cust\n",
       "6      6  0.084379   cust\n",
       "7      7  0.019319   cust\n",
       "8      8  0.150579   cust\n",
       "9      9  0.116103   cust"
      ]
     },
     "execution_count": 73,
     "metadata": {},
     "output_type": "execute_result"
    }
   ],
   "source": [
    "frequency_cust"
   ]
  },
  {
   "cell_type": "code",
   "execution_count": 74,
   "metadata": {},
   "outputs": [],
   "source": [
    "frequencies = pd.concat([frequency_pop,frequency_cust], axis = 0)"
   ]
  },
  {
   "cell_type": "code",
   "execution_count": 75,
   "metadata": {},
   "outputs": [
    {
     "data": {
      "image/png": "[encoded data removed]",
      "text/plain": [
       "<matplotlib.figure.Figure at 0x7fd8818144e0>"
      ]
     },
     "metadata": {
      "needs_background": "light"
     },
     "output_type": "display_data"
    }
   ],
   "source": [
    "fig, ax = plt.subplots(figsize=(16,10))    \n",
    "ax=sns.barplot(x='label', y='freq', hue='sample', data=frequencies)"
   ]
  },
  {
   "cell_type": "code",
   "execution_count": 80,
   "metadata": {},
   "outputs": [
    {
     "data": {
      "image/png": "[encoded data removed]",
      "text/plain": [
       "<matplotlib.figure.Figure at 0x7fd880a45208>"
      ]
     },
     "metadata": {
      "needs_background": "light"
     },
     "output_type": "display_data"
    }
   ],
   "source": [
    "#Plot to show the percentage in difference of representation from the customer dataset to the general population\n",
    "fig, ax = plt.subplots(figsize=(16,10))    \n",
    "ax=sns.barplot(x=frequency_cust['label'], y=((frequency_cust['freq']/frequency_pop['freq'])-1)*100)\n",
    "\n"
   ]
  },
  {
   "cell_type": "code",
   "execution_count": 77,
   "metadata": {},
   "outputs": [],
   "source": [
    "# What kinds of people are part of a cluster that is overrepresented in the\n",
    "# customer data compared to the general population?\n",
    "\n",
    "#Cluster number 1 is that more overrepresented in the general population. Lets bring back its center to the \n",
    "#original dataset to find more about it\n",
    "center_cluster1 = scaler.inverse_transform(pca.inverse_transform(kmeans_10.cluster_centers_[1])).round(1)\n",
    "over_rep_cluster = pd.Series(data = center_cluster1, index = customers_cleaned.columns)"
   ]
  },
  {
   "cell_type": "code",
   "execution_count": 78,
   "metadata": {},
   "outputs": [
    {
     "data": {
      "text/plain": [
       "ALTERSKATEGORIE_GROB        3.6\n",
       "ANREDE_KZ                   1.0\n",
       "FINANZ_MINIMALIST           4.8\n",
       "FINANZ_SPARER               1.2\n",
       "FINANZ_VORSORGER            4.8\n",
       "FINANZ_ANLEGER              1.6\n",
       "FINANZ_UNAUFFAELLIGER       1.5\n",
       "FINANZ_HAUSBAUER            2.3\n",
       "GREEN_AVANTGARDE            0.0\n",
       "HEALTH_TYP                  2.2\n",
       "RETOURTYP_BK_S              3.8\n",
       "SEMIO_SOZ                   4.7\n",
       "SEMIO_FAM                   4.6\n",
       "SEMIO_REL                   3.5\n",
       "SEMIO_MAT                   2.9\n",
       "SEMIO_VERT                  6.0\n",
       "SEMIO_LUST                  5.5\n",
       "SEMIO_ERL                   4.6\n",
       "SEMIO_KULT                  4.8\n",
       "SEMIO_RAT                   2.5\n",
       "SEMIO_KRIT                  3.0\n",
       "SEMIO_DOM                   3.0\n",
       "SEMIO_KAEM                  2.7\n",
       "SEMIO_PFLICHT               2.8\n",
       "SEMIO_TRADV                 2.9\n",
       "SOHO_KZ                     0.0\n",
       "VERS_TYP                    1.5\n",
       "ANZ_PERSONEN                2.5\n",
       "ANZ_TITEL                   0.0\n",
       "HH_EINKOMMEN_SCORE          3.4\n",
       "                          ...  \n",
       "MIN_GEBAEUDEJAHR         1992.8\n",
       "KBA05_ANTG1                 2.7\n",
       "KBA05_ANTG2                 1.1\n",
       "KBA05_ANTG3                 0.1\n",
       "KBA05_ANTG4                 0.0\n",
       "KBA05_GBZ                   4.1\n",
       "BALLRAUM                    5.6\n",
       "EWDICHTE                    2.4\n",
       "INNENSTADT                  6.1\n",
       "GEBAEUDETYP_RASTER          4.0\n",
       "KKK                         3.0\n",
       "MOBI_REGIO                  4.2\n",
       "ONLINE_AFFINITAET           2.9\n",
       "REGIOTYP                    4.8\n",
       "KBA13_ANZAHL_PKW          718.3\n",
       "PLZ8_ANTG1                  3.0\n",
       "PLZ8_ANTG2                  2.3\n",
       "PLZ8_ANTG3                  0.8\n",
       "PLZ8_ANTG4                  0.2\n",
       "PLZ8_HHZ                    3.4\n",
       "PLZ8_GBZ                    3.9\n",
       "ARBEIT                      2.2\n",
       "ORTSGR_KLS9                 3.1\n",
       "RELAT_AB                    2.1\n",
       "OST_WEST_KZ_O               0.0\n",
       "OST_WEST_KZ_W               1.0\n",
       "JUGENDJAHRE                 2.7\n",
       "PRAEGENDE                   0.0\n",
       "WEALTH_HOUSEHOLD            2.3\n",
       "STAGE_HOUSEHOLD             3.3\n",
       "Length: 65, dtype: float64"
      ]
     },
     "execution_count": 78,
     "metadata": {},
     "output_type": "execute_result"
    }
   ],
   "source": [
    "over_rep_cluster"
   ]
  },
  {
   "cell_type": "code",
   "execution_count": 87,
   "metadata": {},
   "outputs": [],
   "source": [
    "# What kinds of people are part of a cluster that is underrepresented in the\n",
    "# customer data compared to the general population?\n",
    "#Lets repeat the same proceedure for cluster number 5, the most underrepresented\n",
    "center_cluster5 = scaler.inverse_transform(pca.inverse_transform(kmeans_10.cluster_centers_[5])).round(1)\n",
    "under_rep_cluster = pd.Series(data = center_cluster5, index = customers_cleaned.columns)"
   ]
  },
  {
   "cell_type": "code",
   "execution_count": 88,
   "metadata": {},
   "outputs": [
    {
     "data": {
      "text/plain": [
       "ALTERSKATEGORIE_GROB        3.7\n",
       "ANREDE_KZ                   1.5\n",
       "FINANZ_MINIMALIST           2.7\n",
       "FINANZ_SPARER               1.1\n",
       "FINANZ_VORSORGER            4.9\n",
       "FINANZ_ANLEGER              1.1\n",
       "FINANZ_UNAUFFAELLIGER       1.1\n",
       "FINANZ_HAUSBAUER            4.6\n",
       "GREEN_AVANTGARDE            0.2\n",
       "HEALTH_TYP                  1.7\n",
       "RETOURTYP_BK_S              4.3\n",
       "SEMIO_SOZ                   4.8\n",
       "SEMIO_FAM                   3.7\n",
       "SEMIO_REL                   2.4\n",
       "SEMIO_MAT                   3.8\n",
       "SEMIO_VERT                  4.4\n",
       "SEMIO_LUST                  6.3\n",
       "SEMIO_ERL                   5.4\n",
       "SEMIO_KULT                  2.9\n",
       "SEMIO_RAT                   2.3\n",
       "SEMIO_KRIT                  4.5\n",
       "SEMIO_DOM                   4.5\n",
       "SEMIO_KAEM                  4.1\n",
       "SEMIO_PFLICHT               1.6\n",
       "SEMIO_TRADV                 1.9\n",
       "SOHO_KZ                     0.0\n",
       "VERS_TYP                    1.6\n",
       "ANZ_PERSONEN                1.5\n",
       "ANZ_TITEL                   0.1\n",
       "HH_EINKOMMEN_SCORE          5.7\n",
       "                          ...  \n",
       "MIN_GEBAEUDEJAHR         1990.2\n",
       "KBA05_ANTG1                 0.3\n",
       "KBA05_ANTG2                 0.4\n",
       "KBA05_ANTG3                 0.0\n",
       "KBA05_ANTG4                 1.4\n",
       "KBA05_GBZ                   1.5\n",
       "BALLRAUM                    3.1\n",
       "EWDICHTE                    5.0\n",
       "INNENSTADT                  3.8\n",
       "GEBAEUDETYP_RASTER          2.2\n",
       "KKK                         1.8\n",
       "MOBI_REGIO                  1.0\n",
       "ONLINE_AFFINITAET           1.4\n",
       "REGIOTYP                    3.5\n",
       "KBA13_ANZAHL_PKW          658.8\n",
       "PLZ8_ANTG1                  1.8\n",
       "PLZ8_ANTG2                  3.0\n",
       "PLZ8_ANTG3                  1.9\n",
       "PLZ8_ANTG4                  1.2\n",
       "PLZ8_HHZ                    4.3\n",
       "PLZ8_GBZ                    2.7\n",
       "ARBEIT                      3.0\n",
       "ORTSGR_KLS9                 6.9\n",
       "RELAT_AB                    3.3\n",
       "OST_WEST_KZ_O               0.1\n",
       "OST_WEST_KZ_W               0.9\n",
       "JUGENDJAHRE                 1.7\n",
       "PRAEGENDE                   0.2\n",
       "WEALTH_HOUSEHOLD            5.0\n",
       "STAGE_HOUSEHOLD             4.9\n",
       "Length: 65, dtype: float64"
      ]
     },
     "execution_count": 88,
     "metadata": {},
     "output_type": "execute_result"
    }
   ],
   "source": [
    "under_rep_cluster"
   ]
  },
  {
   "cell_type": "markdown",
   "metadata": {},
   "source": [
    "### Discussion 3.3: Compare Customer Data to Demographics Data\n",
    "\n",
    "-An individual of the most relatively represented group will most likely be a man with a saving finantial mentaility,  who lives in shared houses with few or no people, far away from the city center, with low mobility.\n",
    "-An individual from the under represented group most likely will be an elderly person, of low income, who lives closer to the city in a not owned house, unsurprisingly sensual minded and probably not traditional."
   ]
  },
  {
   "cell_type": "markdown",
   "metadata": {},
   "source": [
    "> Congratulations on making it this far in the project! Before you finish, make sure to check through the entire notebook from top to bottom to make sure that your analysis follows a logical flow and all of your findings are documented in **Discussion** cells. Once you've checked over all of your work, you should export the notebook as an HTML document to submit for evaluation. You can do this from the menu, navigating to **File -> Download as -> HTML (.html)**. You will submit both that document and this notebook for your project submission."
   ]
  },
  {
   "cell_type": "code",
   "execution_count": null,
   "metadata": {},
   "outputs": [],
   "source": []
  }
 ],
 "metadata": {
  "kernelspec": {
   "display_name": "Python 3",
   "language": "python",
   "name": "python3"
  },
  "language_info": {
   "codemirror_mode": {
    "name": "ipython",
    "version": 3
   },
   "file_extension": ".py",
   "mimetype": "text/x-python",
   "name": "python",
   "nbconvert_exporter": "python",
   "pygments_lexer": "ipython3",
   "version": "3.6.3"
  }
 },
 "nbformat": 4,
 "nbformat_minor": 2
}
